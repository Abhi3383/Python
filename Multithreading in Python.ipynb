{
 "cells": [
  {
   "cell_type": "code",
   "execution_count": null,
   "metadata": {},
   "outputs": [],
   "source": [
    "'''\n",
    "Multithreading in Python\n",
    "Multithreading is a technique in programming that allows multiple threads of execution to run concurrently within a single process. \n",
    "In Python, we can use the threading module to implement multithreading. In this tutorial, we will take a closer look at the threading module and its various functions and how they can be used in Python.\n",
    "\n",
    "Importing Threading\n",
    "We can use threading by importing the threading module.\n",
    "import threading\n",
    "'''"
   ]
  },
  {
   "cell_type": "code",
   "execution_count": null,
   "metadata": {},
   "outputs": [],
   "source": [
    "'''\n",
    "Creating a thread\n",
    "To create a thread, we need to create a Thread object and then call its start() method. \n",
    "The start() method runs the thread and then to stop the execution, we use the join() method. \n",
    "Here's how we can create a simple thread.\n",
    "'''"
   ]
  },
  {
   "cell_type": "code",
   "execution_count": 1,
   "metadata": {},
   "outputs": [],
   "source": [
    "import threading\n",
    "def my_func():\n",
    "  print(\"Hello from thread\", threading.current_thread().name)\n",
    "  thread = threading.Thread(target=my_func)\n",
    "  thread.start()\n",
    "  thread.join()"
   ]
  },
  {
   "cell_type": "code",
   "execution_count": 2,
   "metadata": {},
   "outputs": [
    {
     "data": {
      "text/plain": [
       "'\\nFunctions\\nThe following are some of the most commonly used functions in the threading module:\\n\\nthreading.Thread(target, args): \\nThis function creates a new thread that runs the target function with the specified arguments.\\n\\nthreading.Lock(): \\nThis function creates a lock that can be used to synchronize access to shared resources between threads.\\n'"
      ]
     },
     "execution_count": 2,
     "metadata": {},
     "output_type": "execute_result"
    }
   ],
   "source": [
    "'''\n",
    "Functions\n",
    "The following are some of the most commonly used functions in the threading module:\n",
    "\n",
    "threading.Thread(target, args): \n",
    "This function creates a new thread that runs the target function with the specified arguments.\n",
    "\n",
    "threading.Lock(): \n",
    "This function creates a lock that can be used to synchronize access to shared resources between threads.\n",
    "'''"
   ]
  },
  {
   "cell_type": "code",
   "execution_count": null,
   "metadata": {},
   "outputs": [],
   "source": [
    "'''\n",
    "Creating multiple threads\n",
    "Creating multiple threads is a common approach to using multithreading in Python. \n",
    "The idea is to create a pool of worker threads and then assign tasks to them as needed. \n",
    "This allows you to take advantage of multiple CPU cores and process tasks in parallel.\n",
    "'''"
   ]
  },
  {
   "cell_type": "code",
   "execution_count": 3,
   "metadata": {},
   "outputs": [
    {
     "name": "stdout",
     "output_type": "stream",
     "text": [
      "Task processed: 1\n",
      "Task processed: 2\n",
      "Task processed: 3\n",
      "Task processed: 4\n",
      "Task processed: 5\n",
      "Task processed: 6\n",
      "Task processed: 7\n",
      "Task processed: 8\n",
      "Task processed: 9\n",
      "Task processed: 10\n"
     ]
    }
   ],
   "source": [
    "import threading\n",
    "\n",
    "def thread_task(task):\n",
    "    # Do some work here\n",
    "    print(\"Task processed:\", task)\n",
    "\n",
    "if __name__ == '__main__':\n",
    "    tasks = [1, 2, 3, 4, 5, 6, 7, 8, 9, 10]\n",
    "\n",
    "    threads = []\n",
    "    for task in tasks:\n",
    "        thread = threading.Thread(target=thread_task, args=(task,))\n",
    "        threads.append(thread)\n",
    "        thread.start()\n",
    "\n",
    "    for thread in threads:\n",
    "        thread.join()"
   ]
  },
  {
   "cell_type": "code",
   "execution_count": null,
   "metadata": {},
   "outputs": [],
   "source": [
    "'''\n",
    "Using a lock to synchronize access to shared resources\n",
    "When working with multithreading in python, locks can be used to synchronize access to shared resources among multiple threads. \n",
    "A lock is an object that acts as a semaphore, allowing only one thread at a time to execute a critical section of code. \n",
    "The lock is released when the thread finishes executing the critical section.\n",
    "'''"
   ]
  },
  {
   "cell_type": "code",
   "execution_count": 8,
   "metadata": {},
   "outputs": [
    {
     "name": "stdout",
     "output_type": "stream",
     "text": [
      "Counter value: 0\n"
     ]
    }
   ],
   "source": [
    "import threading\n",
    "\n",
    "def increment(counter, lock):\n",
    "    for i in range(10000):\n",
    "        lock.acquire()\n",
    "        counter += 1\n",
    "        lock.release()\n",
    "\n",
    "if __name__ == '__main__':\n",
    "    counter = 0\n",
    "    lock = threading.Lock()\n",
    "\n",
    "    threads = []\n",
    "    for i in range(2):\n",
    "        thread = threading.Thread(target=increment, args=(counter, lock))\n",
    "        threads.append(thread)\n",
    "        thread.start()\n",
    "\n",
    "    for thread in threads:\n",
    "        thread.join()\n",
    "\n",
    "    print(\"Counter value:\", counter)"
   ]
  },
  {
   "cell_type": "code",
   "execution_count": null,
   "metadata": {},
   "outputs": [
    {
     "name": "stdout",
     "output_type": "stream",
     "text": [
      "Sleeping for 4 seconds\n",
      "Sleeping for 2 seconds\n",
      "Sleeping for 1 seconds\n"
     ]
    },
    {
     "data": {
      "text/plain": [
       "1"
      ]
     },
     "execution_count": 15,
     "metadata": {},
     "output_type": "execute_result"
    }
   ],
   "source": [
    "import threading\n",
    "import time\n",
    "\n",
    "# Indicates some task being done\n",
    "def func(seconds):\n",
    "  print(f\"Sleeping for {seconds} seconds\")\n",
    "  time.sleep(seconds)\n",
    "  return seconds\n",
    "\n",
    "time1 = time.perf_counter()\n",
    "# Normal Code\n",
    "func(4) \n",
    "func(2)\n",
    "func(1)\n",
    "  \n"
   ]
  },
  {
   "cell_type": "code",
   "execution_count": 18,
   "metadata": {},
   "outputs": [
    {
     "name": "stdout",
     "output_type": "stream",
     "text": [
      "Sleeping for 4 seconds\n",
      "Sleeping for 2 seconds\n",
      "Sleeping for 1 seconds\n",
      "92.33887670002878\n"
     ]
    }
   ],
   "source": [
    "# Same code using Threads\n",
    "t1 = threading.Thread(target=func, args=[4])\n",
    "t2 = threading.Thread(target=func, args=[2])\n",
    "t3 = threading.Thread(target=func, args=[1])\n",
    "t1.start()\n",
    "t2.start()\n",
    "t3.start()\n",
    "  \n",
    "t1.join()\n",
    "t2.join()\n",
    "t3.join()\n",
    "# Calculating Time \n",
    "time2 = time.perf_counter()\n",
    "print(time2 - time1)"
   ]
  },
  {
   "cell_type": "code",
   "execution_count": 10,
   "metadata": {},
   "outputs": [
    {
     "name": "stdout",
     "output_type": "stream",
     "text": [
      "Sleeping for 3 seconds\n",
      "Sleeping for 5 seconds\n",
      "Sleeping for 1 seconds\n",
      "Sleeping for 2 seconds\n",
      "3\n",
      "5\n",
      "1\n",
      "2\n"
     ]
    }
   ],
   "source": [
    "from concurrent.futures import ThreadPoolExecutor\n",
    "\n",
    "def poolingDemo():\n",
    "  with ThreadPoolExecutor() as executor:\n",
    "    future1 = executor.submit(func, 3)\n",
    "    future2 = executor.submit(func, 2)\n",
    "    future3 = executor.submit(func, 4)\n",
    "    print(future1.result())\n",
    "    print(future2.result())\n",
    "    print(future3.result())\n",
    "    l = [3, 5, 1, 2]\n",
    "    results = executor.map(func, l)\n",
    "    for result in results:\n",
    "      print(result)\n",
    "\n",
    "\n",
    "poolingDemo()"
   ]
  },
  {
   "cell_type": "code",
   "execution_count": null,
   "metadata": {},
   "outputs": [],
   "source": []
  }
 ],
 "metadata": {
  "kernelspec": {
   "display_name": "Python 3",
   "language": "python",
   "name": "python3"
  },
  "language_info": {
   "codemirror_mode": {
    "name": "ipython",
    "version": 3
   },
   "file_extension": ".py",
   "mimetype": "text/x-python",
   "name": "python",
   "nbconvert_exporter": "python",
   "pygments_lexer": "ipython3",
   "version": "3.11.5"
  }
 },
 "nbformat": 4,
 "nbformat_minor": 2
}
