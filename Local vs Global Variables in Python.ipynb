{
 "cells": [
  {
   "cell_type": "code",
   "execution_count": 4,
   "metadata": {},
   "outputs": [
    {
     "name": "stdout",
     "output_type": "stream",
     "text": [
      "The global x is 10\n",
      "The local x is 5\n",
      "The global x is 10\n"
     ]
    }
   ],
   "source": [
    "x = 10 \n",
    "def my_function():\n",
    "  x=5\n",
    "  print(f\"The local x is {x}\")\n",
    "print(f\"The global x is {x}\")\n",
    "my_function()\n",
    "print(f\"The global x is {x}\")"
   ]
  },
  {
   "cell_type": "code",
   "execution_count": 6,
   "metadata": {},
   "outputs": [
    {
     "name": "stdout",
     "output_type": "stream",
     "text": [
      "The global x is 10\n",
      "The global y is 20\n",
      "The vale x is 5\n",
      "The value y is 5\n",
      "The global x is 5\n",
      "The global y is 20\n"
     ]
    }
   ],
   "source": [
    "x = 10  # global variable\n",
    "y = 20\n",
    "\n",
    "def my_function():\n",
    "  global x\n",
    "  x = 5  # this will change the value of the global variable x\n",
    "  y = 5  # local variable\n",
    "  print(f\"The vale x is {x}\")\n",
    "  print(f\"The value y is {y}\")\n",
    "\n",
    "print(f\"The global x is {x}\")\n",
    "print(f\"The global y is {y}\")\n",
    "my_function()\n",
    "print(f\"The global x is {x}\")\n",
    "print(f\"The global y is {y}\")"
   ]
  },
  {
   "cell_type": "code",
   "execution_count": 2,
   "metadata": {},
   "outputs": [
    {
     "name": "stdout",
     "output_type": "stream",
     "text": [
      "5\n"
     ]
    }
   ],
   "source": []
  },
  {
   "cell_type": "code",
   "execution_count": null,
   "metadata": {},
   "outputs": [],
   "source": []
  }
 ],
 "metadata": {
  "kernelspec": {
   "display_name": "Python 3",
   "language": "python",
   "name": "python3"
  },
  "language_info": {
   "codemirror_mode": {
    "name": "ipython",
    "version": 3
   },
   "file_extension": ".py",
   "mimetype": "text/x-python",
   "name": "python",
   "nbconvert_exporter": "python",
   "pygments_lexer": "ipython3",
   "version": "3.11.5"
  }
 },
 "nbformat": 4,
 "nbformat_minor": 2
}
