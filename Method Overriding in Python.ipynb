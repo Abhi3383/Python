{
 "cells": [
  {
   "cell_type": "code",
   "execution_count": null,
   "metadata": {},
   "outputs": [],
   "source": [
    "'''\n",
    "Method Overriding in Python\n",
    "Method overriding is a powerful feature in object-oriented programming that allows you to redefine a method in a derived class. \n",
    "The method in the derived class is said to override the method in the base class. When you create an instance of the derived class and call the overridden method, \n",
    "the version of the method in the derived class is executed, rather than the version in the base class.\n",
    "\n",
    "In Python, method overriding is a way to customize the behavior of a class based on its specific needs. \n",
    "For example, consider the following base class:\n",
    "'''"
   ]
  },
  {
   "cell_type": "code",
   "execution_count": 1,
   "metadata": {},
   "outputs": [],
   "source": [
    "class Shape:\n",
    "    def area(self):\n",
    "        pass"
   ]
  },
  {
   "cell_type": "code",
   "execution_count": null,
   "metadata": {},
   "outputs": [],
   "source": [
    "'''\n",
    "In this base class, the area method is defined, but does not have any implementation. \n",
    "If you want to create a derived class that represents a circle, you can override the area method and provide an implementation that calculates the area of a circle:\n",
    "'''"
   ]
  },
  {
   "cell_type": "code",
   "execution_count": 2,
   "metadata": {},
   "outputs": [],
   "source": [
    "class Circle(Shape):\n",
    "    def __init__(self, radius):\n",
    "        self.radius = radius\n",
    "\n",
    "    def area(self):\n",
    "        return 3.14 * self.radius * self.radius"
   ]
  },
  {
   "cell_type": "code",
   "execution_count": null,
   "metadata": {},
   "outputs": [],
   "source": [
    "'''\n",
    "In this example, the Circle class inherits from the Shape class, and overrides the area method. \n",
    "The new implementation of the area method calculates the area of a circle, based on its radius.\n",
    "\n",
    "It's important to note that when you override a method, the new implementation must have the same method signature as the original method. \n",
    "This means that the number and type of arguments, as well as the return type, must be the same.\n",
    "\n",
    "Another way to customize the behavior of a class is to call the base class method from the derived class method. \n",
    "To do this, you can use the super function. \n",
    "The super function allows you to call the base class method from the derived class method, and can be useful when you want to extend the behavior of the base class method, rather than replace it.\n",
    "\n",
    "For example, consider the following base class:\n",
    "'''"
   ]
  },
  {
   "cell_type": "code",
   "execution_count": 3,
   "metadata": {},
   "outputs": [],
   "source": [
    "class Shape:\n",
    "    def area(self):\n",
    "        print(\"Calculating area...\")"
   ]
  },
  {
   "cell_type": "code",
   "execution_count": null,
   "metadata": {},
   "outputs": [],
   "source": [
    "'''\n",
    "In this base class, the area method prints a message indicating that the area is being calculated. \n",
    "If you want to create a derived class that represents a circle, and you also want to print a message indicating the type of shape, you can use the super function to call the base class method, and add your own message:\n",
    "'''"
   ]
  },
  {
   "cell_type": "code",
   "execution_count": 4,
   "metadata": {},
   "outputs": [],
   "source": [
    "class Circle(Shape):\n",
    "    def __init__(self, radius):\n",
    "        self.radius = radius\n",
    "\n",
    "    def area(self):\n",
    "        print(\"Calculating area of a circle...\")\n",
    "        super().area()\n",
    "        return 3.14 * self.radius * self.radius"
   ]
  },
  {
   "cell_type": "code",
   "execution_count": null,
   "metadata": {},
   "outputs": [],
   "source": [
    "'''\n",
    "In this example, the Circle class overrides the area method, and calls the base class method using the super function. \n",
    "This allows you to extend the behavior of the base class method, while still maintaining its original behavior.\n",
    "\n",
    "In conclusion, method overriding is a powerful feature in Python that allows you to customize the behavior of a class based on its specific needs. \n",
    "By using method overriding, you can create more robust and reliable code, and ensure that your classes behave in the way that you need them to. \n",
    "Additionally, by using the super function, you can extend the behavior of a base class method, rather than replace it, giving you even greater flexibility and control over the behavior of your classes.\n",
    "'''"
   ]
  },
  {
   "cell_type": "code",
   "execution_count": null,
   "metadata": {},
   "outputs": [
    {
     "ename": "TypeError",
     "evalue": "Circle.__init__() takes 2 positional arguments but 3 were given",
     "output_type": "error",
     "traceback": [
      "\u001b[1;31m---------------------------------------------------------------------------\u001b[0m",
      "\u001b[1;31mTypeError\u001b[0m                                 Traceback (most recent call last)",
      "Cell \u001b[1;32mIn[7], line 17\u001b[0m\n\u001b[0;32m     14\u001b[0m     \u001b[38;5;28;01mdef\u001b[39;00m \u001b[38;5;21marea\u001b[39m(\u001b[38;5;28mself\u001b[39m):\n\u001b[0;32m     15\u001b[0m         \u001b[38;5;28;01mreturn\u001b[39;00m \u001b[38;5;241m3.14\u001b[39m \u001b[38;5;241m*\u001b[39m  \u001b[38;5;28msuper\u001b[39m()\u001b[38;5;241m.\u001b[39marea()\n\u001b[1;32m---> 17\u001b[0m rec \u001b[38;5;241m=\u001b[39m \u001b[43mCircle\u001b[49m\u001b[43m(\u001b[49m\u001b[38;5;241;43m3\u001b[39;49m\u001b[43m,\u001b[49m\u001b[43m \u001b[49m\u001b[38;5;241;43m5\u001b[39;49m\u001b[43m)\u001b[49m\n\u001b[0;32m     18\u001b[0m \u001b[38;5;28mprint\u001b[39m(rec\u001b[38;5;241m.\u001b[39marea())\n\u001b[0;32m     20\u001b[0m c \u001b[38;5;241m=\u001b[39m Circle(\u001b[38;5;241m5\u001b[39m)\n",
      "\u001b[1;31mTypeError\u001b[0m: Circle.__init__() takes 2 positional arguments but 3 were given"
     ]
    }
   ],
   "source": [
    "class Shape:\n",
    "  def __init__(self, x, y):\n",
    "    self.x = x\n",
    "    self.y = y\n",
    "    \n",
    "  def area(self):\n",
    "      return self.x * self.y\n",
    "\n",
    "class Circle(Shape):\n",
    "    def __init__(self, radius):\n",
    "      self.radius = radius\n",
    "      super().__init__(radius, radius)\n",
    "\n",
    "    def area(self):\n",
    "        return 3.14 *  super().area()\n",
    "      \n",
    "rec = Shape(3, 5)\n",
    "print(rec.area())\n",
    "\n",
    "c = Circle(5)\n",
    "print(c.area())"
   ]
  },
  {
   "cell_type": "code",
   "execution_count": null,
   "metadata": {},
   "outputs": [],
   "source": []
  }
 ],
 "metadata": {
  "kernelspec": {
   "display_name": "Python 3",
   "language": "python",
   "name": "python3"
  },
  "language_info": {
   "codemirror_mode": {
    "name": "ipython",
    "version": 3
   },
   "file_extension": ".py",
   "mimetype": "text/x-python",
   "name": "python",
   "nbconvert_exporter": "python",
   "pygments_lexer": "ipython3",
   "version": "3.11.5"
  }
 },
 "nbformat": 4,
 "nbformat_minor": 2
}
