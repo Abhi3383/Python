{
 "cells": [
  {
   "cell_type": "code",
   "execution_count": 3,
   "metadata": {},
   "outputs": [
    {
     "name": "stdout",
     "output_type": "stream",
     "text": [
      "Rohan Abhishek Lavish\n"
     ]
    }
   ],
   "source": [
    "name = \"Rohan\"\n",
    "frnd= \"Abhishek\"\n",
    "anotherFrnd = \"Lavish\"\n",
    "print(name,frnd,anotherFrnd)"
   ]
  },
  {
   "cell_type": "code",
   "execution_count": 6,
   "metadata": {},
   "outputs": [
    {
     "name": "stdout",
     "output_type": "stream",
     "text": [
      "He said,\"I want to eat an apple\n"
     ]
    }
   ],
   "source": [
    "apple= \"He said,\\\"I want to eat an apple\"\n",
    "print(apple)"
   ]
  },
  {
   "cell_type": "code",
   "execution_count": 8,
   "metadata": {},
   "outputs": [
    {
     "name": "stdout",
     "output_type": "stream",
     "text": [
      "He said,\n",
      "I want to eat an \n",
      "apple with you\n"
     ]
    }
   ],
   "source": [
    "apple= '''He said,\n",
    "I want to eat an \n",
    "apple with you'''\n",
    "print(apple)"
   ]
  },
  {
   "cell_type": "code",
   "execution_count": 12,
   "metadata": {},
   "outputs": [
    {
     "name": "stdout",
     "output_type": "stream",
     "text": [
      "namaste\n",
      "n\n"
     ]
    }
   ],
   "source": [
    "z = \"namaste\"\n",
    "print(z)\n",
    "print(z[0])"
   ]
  },
  {
   "cell_type": "code",
   "execution_count": 14,
   "metadata": {},
   "outputs": [
    {
     "name": "stdout",
     "output_type": "stream",
     "text": [
      "H\n",
      "e\n",
      " \n",
      "s\n",
      "a\n",
      "i\n",
      "d\n",
      ",\n",
      "\n",
      "\n",
      "I\n",
      " \n",
      "w\n",
      "a\n",
      "n\n",
      "t\n",
      " \n",
      "t\n",
      "o\n",
      " \n",
      "e\n",
      "a\n",
      "t\n",
      " \n",
      "a\n",
      "n\n",
      " \n",
      "\n",
      "\n",
      "a\n",
      "p\n",
      "p\n",
      "l\n",
      "e\n",
      " \n",
      "w\n",
      "i\n",
      "t\n",
      "h\n",
      " \n",
      "y\n",
      "o\n",
      "u\n"
     ]
    }
   ],
   "source": [
    "for c in apple:\n",
    "    print(c)"
   ]
  },
  {
   "cell_type": "code",
   "execution_count": null,
   "metadata": {},
   "outputs": [],
   "source": []
  }
 ],
 "metadata": {
  "kernelspec": {
   "display_name": "Python 3",
   "language": "python",
   "name": "python3"
  },
  "language_info": {
   "codemirror_mode": {
    "name": "ipython",
    "version": 3
   },
   "file_extension": ".py",
   "mimetype": "text/x-python",
   "name": "python",
   "nbconvert_exporter": "python",
   "pygments_lexer": "ipython3",
   "version": "3.11.5"
  }
 },
 "nbformat": 4,
 "nbformat_minor": 2
}
