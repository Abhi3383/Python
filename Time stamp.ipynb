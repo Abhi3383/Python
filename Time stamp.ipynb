{
 "cells": [
  {
   "cell_type": "code",
   "execution_count": 1,
   "metadata": {},
   "outputs": [
    {
     "name": "stdout",
     "output_type": "stream",
     "text": [
      "10:00:42\n",
      "<class 'str'>\n",
      "10\n",
      "<class 'str'>\n",
      "<class 'int'>\n",
      "00\n",
      "42\n"
     ]
    }
   ],
   "source": [
    "import time\n",
    "timestamp = time.strftime('%H:%M:%S')\n",
    "print(timestamp)\n",
    "print(type(timestamp))\n",
    "timestamp = time.strftime('%H')\n",
    "print(timestamp)\n",
    "print(type(timestamp))\n",
    "print(type(int(timestamp)))\n",
    "timestamp = time.strftime('%M')\n",
    "print(timestamp)\n",
    "timestamp = time.strftime('%S')\n",
    "print(timestamp)\n",
    "Recenttime = int(time.strftime('%H'))"
   ]
  },
  {
   "cell_type": "code",
   "execution_count": 3,
   "metadata": {},
   "outputs": [
    {
     "name": "stdout",
     "output_type": "stream",
     "text": [
      "GOOD MORNING Abhishek its 10:02:08\n"
     ]
    }
   ],
   "source": [
    "import time\n",
    "name = input('Enter your name: ')\n",
    "recenttime = time.strftime('%H:%M:%S')\n",
    "hour = int(time.strftime('%H'))\n",
    "c= name.capitalize()\n",
    "if(4<=hour<12):\n",
    "    print('GOOD MORNING',c,'its',recenttime)\n",
    "elif(12>=hour<17):\n",
    "    print('GOOD EVENING',c,'its',recenttime)\n",
    "else:\n",
    "    print('GOOD NIGHT',c,'its',recenttime)"
   ]
  },
  {
   "cell_type": "code",
   "execution_count": null,
   "metadata": {},
   "outputs": [],
   "source": []
  }
 ],
 "metadata": {
  "kernelspec": {
   "display_name": "Python 3",
   "language": "python",
   "name": "python3"
  },
  "language_info": {
   "codemirror_mode": {
    "name": "ipython",
    "version": 3
   },
   "file_extension": ".py",
   "mimetype": "text/x-python",
   "name": "python",
   "nbconvert_exporter": "python",
   "pygments_lexer": "ipython3",
   "version": "3.11.5"
  }
 },
 "nbformat": 4,
 "nbformat_minor": 2
}
