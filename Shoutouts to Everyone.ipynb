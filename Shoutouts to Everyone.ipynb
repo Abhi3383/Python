{
 "cells": [
  {
   "cell_type": "code",
   "execution_count": 2,
   "metadata": {},
   "outputs": [],
   "source": [
    "import pyttsx3\n",
    "\n",
    "# Initialize the text-to-speech engine\n",
    "engine = pyttsx3.init()\n",
    "\n",
    "names = [\n",
    "    \"StupidProgramm1\", \"AayushGarg15\", \"Yuniek\", \"NiteshUpadhyay2\", \n",
    "    \"RAMESHKUMAR69\", \"AshishKushwaha4\", \"AshokBhatt\", \"MILLANDREME\", \n",
    "    \"ValorantAccoun4\", \"Sanjeevthakur8\", \"vivekRaogaddema\", \"NilutpalBaruah\", \n",
    "    \"Priyanshu48\", \"KenZi2\", \"RahulGoyal14\", \"KartikeySurbhi\", \"AnirbanPati\",\n",
    "    # Add more names if needed...\n",
    "]\n",
    "\n",
    "# Loop through each name and speak it\n",
    "for name in names:\n",
    "    engine.say(f\"Shoutout to {name}\")\n",
    "\n",
    "# Run the text-to-speech engine\n",
    "engine.runAndWait()\n"
   ]
  },
  {
   "cell_type": "code",
   "execution_count": null,
   "metadata": {},
   "outputs": [],
   "source": []
  }
 ],
 "metadata": {
  "kernelspec": {
   "display_name": "Python 3",
   "language": "python",
   "name": "python3"
  },
  "language_info": {
   "codemirror_mode": {
    "name": "ipython",
    "version": 3
   },
   "file_extension": ".py",
   "mimetype": "text/x-python",
   "name": "python",
   "nbconvert_exporter": "python",
   "pygments_lexer": "ipython3",
   "version": "3.11.5"
  }
 },
 "nbformat": 4,
 "nbformat_minor": 2
}
