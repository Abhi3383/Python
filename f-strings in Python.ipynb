{
 "cells": [
  {
   "cell_type": "code",
   "execution_count": 2,
   "metadata": {},
   "outputs": [],
   "source": [
    "letter = \"Hey my name is {1} and I am from {0}\"\n",
    "country = \"India\"\n",
    "name = \"Harry\""
   ]
  },
  {
   "cell_type": "code",
   "execution_count": 4,
   "metadata": {},
   "outputs": [
    {
     "name": "stdout",
     "output_type": "stream",
     "text": [
      "Hey my name is Harry and I am from India\n",
      "Hey my name is Harry and I am from India\n",
      "We use f-strings like this: Hey my name is {name} and I am from {country}\n"
     ]
    }
   ],
   "source": [
    "print(letter.format(country, name))\n",
    "print(f\"Hey my name is {name} and I am from {country}\")\n",
    "print(f\"We use f-strings like this: Hey my name is {{name}} and I am from {{country}}\")"
   ]
  },
  {
   "cell_type": "code",
   "execution_count": 12,
   "metadata": {},
   "outputs": [
    {
     "name": "stdout",
     "output_type": "stream",
     "text": [
      "For only 49.10 dollars!\n",
      "<class 'str'>\n"
     ]
    }
   ],
   "source": [
    "price = 49.09999\n",
    "txt = f\"For only {price:.2f} dollars!\"\n",
    "print(txt.format())\n",
    "print(type(f\"{2 * 30}\"))"
   ]
  },
  {
   "cell_type": "code",
   "execution_count": null,
   "metadata": {},
   "outputs": [],
   "source": []
  }
 ],
 "metadata": {
  "kernelspec": {
   "display_name": "Python 3",
   "language": "python",
   "name": "python3"
  },
  "language_info": {
   "codemirror_mode": {
    "name": "ipython",
    "version": 3
   },
   "file_extension": ".py",
   "mimetype": "text/x-python",
   "name": "python",
   "nbconvert_exporter": "python",
   "pygments_lexer": "ipython3",
   "version": "3.11.5"
  }
 },
 "nbformat": 4,
 "nbformat_minor": 2
}
