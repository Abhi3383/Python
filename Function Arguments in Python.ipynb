{
 "cells": [
  {
   "cell_type": "code",
   "execution_count": 14,
   "metadata": {},
   "outputs": [
    {
     "name": "stdout",
     "output_type": "stream",
     "text": [
      "The average is  5.5\n"
     ]
    }
   ],
   "source": [
    "def average(a, b):\n",
    "  print(\"The average is \", (a + b) / 2)\n",
    "average(5, 6)"
   ]
  },
  {
   "cell_type": "code",
   "execution_count": 16,
   "metadata": {},
   "outputs": [
    {
     "name": "stdout",
     "output_type": "stream",
     "text": [
      "The average is  20.0\n"
     ]
    }
   ],
   "source": [
    "def average(a=10, b=30):\n",
    "  print(\"The average is \", (a + b) / 2)\n",
    "average()"
   ]
  },
  {
   "cell_type": "code",
   "execution_count": 17,
   "metadata": {},
   "outputs": [
    {
     "name": "stdout",
     "output_type": "stream",
     "text": [
      "The average is  4.5\n"
     ]
    }
   ],
   "source": [
    "def average(a=10, b=30):\n",
    "  print(\"The average is \", (a + b) / 2)\n",
    "average(4,5)"
   ]
  },
  {
   "cell_type": "code",
   "execution_count": 19,
   "metadata": {},
   "outputs": [
    {
     "name": "stdout",
     "output_type": "stream",
     "text": [
      "The average is  7.0\n"
     ]
    }
   ],
   "source": [
    "def average(a=10, b=30):\n",
    "  print(\"The average is \", (a + b) / 2)\n",
    "average(b=4)"
   ]
  },
  {
   "cell_type": "code",
   "execution_count": 18,
   "metadata": {},
   "outputs": [
    {
     "name": "stdout",
     "output_type": "stream",
     "text": [
      "The average is  17.0\n"
     ]
    }
   ],
   "source": [
    "def average(a=10, b=30):\n",
    "  print(\"The average is \", (a + b) / 2)\n",
    "average(4)"
   ]
  },
  {
   "cell_type": "code",
   "execution_count": 2,
   "metadata": {},
   "outputs": [
    {
     "name": "stdout",
     "output_type": "stream",
     "text": [
      "The average is  9.0\n",
      "None\n"
     ]
    }
   ],
   "source": [
    "def average(a, b, c=1):\n",
    "  print(\"The average is \", (a + b + c) / 2)\n",
    "c = average(5, 6, 7)\n",
    "print(c)"
   ]
  },
  {
   "cell_type": "code",
   "execution_count": 9,
   "metadata": {},
   "outputs": [
    {
     "name": "stdout",
     "output_type": "stream",
     "text": [
      "('The average is : ', 9.0)\n"
     ]
    }
   ],
   "source": [
    "def average(a, b, c=1):\n",
    "  return \"The average is : \", (a + b + c) / 2\n",
    "c = average(5, 6, 7)\n",
    "print(c)"
   ]
  },
  {
   "cell_type": "code",
   "execution_count": 33,
   "metadata": {},
   "outputs": [
    {
     "name": "stdout",
     "output_type": "stream",
     "text": [
      "<class 'tuple'>\n",
      "Average is:  4.6\n",
      "None\n"
     ]
    }
   ],
   "source": [
    "def average(*numbers):\n",
    "  print(type(numbers)) # tuple\n",
    "  sum = 0\n",
    "  for i in numbers:\n",
    "    sum = sum + i\n",
    "  print(\"Average is: \", sum / len(numbers))\n",
    "#   return sum / len(numbers)\n",
    "\n",
    "c = average(4,6,3,9,8,4,2,2,9,5,6,5,3,1,2,) # passing the tuple\n",
    "print(c)"
   ]
  },
  {
   "cell_type": "code",
   "execution_count": 36,
   "metadata": {},
   "outputs": [
    {
     "name": "stdout",
     "output_type": "stream",
     "text": [
      "<class 'tuple'>\n",
      "('Average is: ', 4.6)\n"
     ]
    }
   ],
   "source": [
    "def average(*numbers):\n",
    "  print(type(numbers)) # tuple\n",
    "  sum = 0\n",
    "  for i in numbers:\n",
    "    sum = sum + i\n",
    "  return \"Average is: \", sum / len(numbers)\n",
    "\n",
    "c = average(4,6,3,9,8,4,2,2,9,5,6,5,3,1,2,) # passing the tuple\n",
    "print(c)"
   ]
  },
  {
   "cell_type": "code",
   "execution_count": 24,
   "metadata": {},
   "outputs": [
    {
     "name": "stdout",
     "output_type": "stream",
     "text": [
      "<class 'function'>\n",
      "Hello, Amy Jhon Whatson\n"
     ]
    }
   ],
   "source": [
    "def name(fname,mname=\"Jhon\",lname=\"Whatson\"):\n",
    "  print(type(name))\n",
    "  print(\"Hello,\", fname, mname, lname)\n",
    "\n",
    "name(\"Amy\")"
   ]
  },
  {
   "cell_type": "code",
   "execution_count": 23,
   "metadata": {},
   "outputs": [
    {
     "name": "stdout",
     "output_type": "stream",
     "text": [
      "Hello, Amy Agarwal Jain\n"
     ]
    }
   ],
   "source": [
    "def name(fname,mname=\"Jhon\",lname=\"Whatson\"):\n",
    "  print(type(name))\n",
    "  print(\"Hello,\", fname, mname, lname)\n",
    "\n",
    "name(\"Amy\",\"Agarwal\",\"Jain\")"
   ]
  },
  {
   "cell_type": "code",
   "execution_count": 21,
   "metadata": {},
   "outputs": [
    {
     "name": "stdout",
     "output_type": "stream",
     "text": [
      "Hello, James Buchanan Barnes\n"
     ]
    }
   ],
   "source": [
    "def name(fname,mname=\"Jhon\",lname=\"Whatson\"):\n",
    "  # print(type(name))\n",
    "  print(\"Hello,\", fname, mname, lname)\n",
    "\n",
    "name(mname=\"Buchanan\", lname=\"Barnes\", fname=\"James\")"
   ]
  },
  {
   "cell_type": "code",
   "execution_count": 31,
   "metadata": {},
   "outputs": [
    {
     "name": "stdout",
     "output_type": "stream",
     "text": [
      "<class 'dict'>\n",
      "Hello, James Buchanan Barnes\n"
     ]
    }
   ],
   "source": [
    "def name(**name):\n",
    "  print(type(name)) # dictionary\n",
    "  print(\"Hello,\", name[\"fname\"], name[\"mname\"], name[\"lname\"])\n",
    "\n",
    "name(mname=\"Buchanan\", lname=\"Barnes\", fname=\"James\") # passing the dictionary"
   ]
  },
  {
   "cell_type": "code",
   "execution_count": null,
   "metadata": {},
   "outputs": [],
   "source": []
  }
 ],
 "metadata": {
  "kernelspec": {
   "display_name": "Python 3",
   "language": "python",
   "name": "python3"
  },
  "language_info": {
   "codemirror_mode": {
    "name": "ipython",
    "version": 3
   },
   "file_extension": ".py",
   "mimetype": "text/x-python",
   "name": "python",
   "nbconvert_exporter": "python",
   "pygments_lexer": "ipython3",
   "version": "3.11.5"
  }
 },
 "nbformat": 4,
 "nbformat_minor": 2
}
