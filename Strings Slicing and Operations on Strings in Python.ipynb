{
 "cells": [
  {
   "cell_type": "code",
   "execution_count": 2,
   "metadata": {},
   "outputs": [
    {
     "name": "stdout",
     "output_type": "stream",
     "text": [
      "Harry, Shubham\n"
     ]
    }
   ],
   "source": [
    "names = \"Harry, Shubham\"\n",
    "print(names[0:])"
   ]
  },
  {
   "cell_type": "code",
   "execution_count": 3,
   "metadata": {},
   "outputs": [
    {
     "name": "stdout",
     "output_type": "stream",
     "text": [
      "Harry, Shubha\n"
     ]
    }
   ],
   "source": [
    "names = \"Harry, Shubham\"\n",
    "print(names[0:-1])"
   ]
  },
  {
   "cell_type": "code",
   "execution_count": 4,
   "metadata": {},
   "outputs": [
    {
     "name": "stdout",
     "output_type": "stream",
     "text": [
      "Harry, Shubham\n"
     ]
    }
   ],
   "source": [
    "names = \"Harry, Shubham\"\n",
    "print(names[:])"
   ]
  },
  {
   "cell_type": "code",
   "execution_count": 5,
   "metadata": {},
   "outputs": [
    {
     "name": "stdout",
     "output_type": "stream",
     "text": [
      "Harry, Shubha\n"
     ]
    }
   ],
   "source": [
    "names = \"Harry, Shubham\"\n",
    "print(names[:-1])"
   ]
  },
  {
   "cell_type": "code",
   "execution_count": 8,
   "metadata": {},
   "outputs": [
    {
     "name": "stdout",
     "output_type": "stream",
     "text": [
      "Harry, Shubham\n"
     ]
    }
   ],
   "source": [
    "names = \"Harry, Shubham\"\n",
    "print(names[2:len(names)])"
   ]
  },
  {
   "cell_type": "code",
   "execution_count": 10,
   "metadata": {},
   "outputs": [
    {
     "name": "stdout",
     "output_type": "stream",
     "text": [
      "Harry, Shubha\n"
     ]
    }
   ],
   "source": [
    "names = \"Harry, Shubham\"\n",
    "print(names[0:len(names)-1])"
   ]
  },
  {
   "cell_type": "code",
   "execution_count": 11,
   "metadata": {},
   "outputs": [
    {
     "name": "stdout",
     "output_type": "stream",
     "text": [
      "ng\n"
     ]
    }
   ],
   "source": [
    "fruit=\"Mango\"\n",
    "print(fruit[-3:-1])\n",
    "# inside (fruit[len(fruit)-3:len(fruit)-1])\n",
    "#        (fruit[2:4])\n"
   ]
  },
  {
   "cell_type": "code",
   "execution_count": null,
   "metadata": {},
   "outputs": [],
   "source": []
  }
 ],
 "metadata": {
  "kernelspec": {
   "display_name": "Python 3",
   "language": "python",
   "name": "python3"
  },
  "language_info": {
   "codemirror_mode": {
    "name": "ipython",
    "version": 3
   },
   "file_extension": ".py",
   "mimetype": "text/x-python",
   "name": "python",
   "nbconvert_exporter": "python",
   "pygments_lexer": "ipython3",
   "version": "3.11.5"
  }
 },
 "nbformat": 4,
 "nbformat_minor": 2
}
