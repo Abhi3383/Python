{
 "cells": [
  {
   "cell_type": "code",
   "execution_count": null,
   "metadata": {},
   "outputs": [],
   "source": [
    "'''\n",
    "Magic/Dunder Methods in Python\n",
    "These are special methods that you can define in your classes, and when invoked, they give you a powerful way to manipulate objects and their behaviour.\n",
    "\n",
    "Magic methods, also known as “dunders” from the double underscores surrounding their names, are powerful tools that allow you to customize the behaviour of your classes. \n",
    "They are used to implement special methods such as the addition, subtraction and comparison operators, as well as some more advanced techniques like descriptors and properties.\n",
    "\n",
    "Let’s take a look at some of the most commonly used magic methods in Python.\n",
    "'''"
   ]
  },
  {
   "cell_type": "code",
   "execution_count": null,
   "metadata": {},
   "outputs": [],
   "source": [
    "'''\n",
    "__init__ method\n",
    "The init method is a special method that is automatically invoked when you create a new instance of a class. \n",
    "This method is responsible for setting up the object’s initial state, and it is where you would typically define any instance variables that you need. \n",
    "Also called \"constructor\", we have discussed this method already\n",
    "'''"
   ]
  },
  {
   "cell_type": "code",
   "execution_count": 3,
   "metadata": {},
   "outputs": [
    {
     "data": {
      "text/plain": [
       "'\\n__str__ and __repr__ methods\\nThe str and repr methods are both used to convert an object to a string representation. \\nThe str method is used when you want to print out an object, while the repr method is used when you want to get a string representation of an object that can be used to recreate the object.\\n'"
      ]
     },
     "execution_count": 3,
     "metadata": {},
     "output_type": "execute_result"
    }
   ],
   "source": [
    "'''\n",
    "__str__ and __repr__ methods\n",
    "The str and repr methods are both used to convert an object to a string representation. \n",
    "The str method is used when you want to print out an object, while the repr method is used when you want to get a string representation of an object that can be used to recreate the object.\n",
    "'''"
   ]
  },
  {
   "cell_type": "code",
   "execution_count": null,
   "metadata": {},
   "outputs": [],
   "source": [
    "'''\n",
    "__len__ method\n",
    "The len method is used to get the length of an object. \n",
    "This is useful when you want to be able to find the size of a data structure, such as a list or dictionary.\n",
    "'''"
   ]
  },
  {
   "cell_type": "code",
   "execution_count": null,
   "metadata": {},
   "outputs": [],
   "source": [
    "'''\n",
    "__call__ method\n",
    "The call method is used to make an object callable, meaning that you can pass it as a parameter to a function and it will be executed when the function is called. \n",
    "This is an incredibly powerful tool that allows you to create objects that behave like functions.\n",
    "\n",
    "These are just a few of the many magic methods available in Python. \n",
    "They are incredibly powerful tools that allow you to customize the behaviour of your objects, and can make your code much cleaner and easier to understand. \n",
    "So if you’re looking for a way to take your Python code to the next level, take some time to learn about these magic methods.\n",
    "'''"
   ]
  },
  {
   "cell_type": "code",
   "execution_count": 1,
   "metadata": {},
   "outputs": [],
   "source": [
    "class Employee:\n",
    "\n",
    "  def __init__(self, name):\n",
    "    self.name = name\n",
    "\n",
    "  def __len__(self):\n",
    "    i = 0\n",
    "    for c in self.name:\n",
    "      i = i + 1\n",
    "    return i\n",
    "\n",
    "  def __str__(self):\n",
    "    return f\"The name of the employee is {self.name} str\"\n",
    "    \n",
    "  # Since both str and repr are same str will get precedence\n",
    "  # def __repr__(self):\n",
    "  #   return f\"The name of the employee is {self.name} str\"\n",
    "    \n",
    "  def __repr__(self):\n",
    "    return f\"Employee('{self.name}')\"\n",
    "\n",
    "  def __call__(self):\n",
    "    print(\"Hey I am good\")\n"
   ]
  },
  {
   "cell_type": "code",
   "execution_count": 4,
   "metadata": {},
   "outputs": [
    {
     "name": "stdout",
     "output_type": "stream",
     "text": [
      "The name of the employee is Harry str\n",
      "Employee('Harry')\n",
      "Harry\n",
      "5\n",
      "Hey I am good\n"
     ]
    }
   ],
   "source": [
    "# from emp import Employee\n",
    "\n",
    "e = Employee(\"Harry\")\n",
    "print(str(e))\n",
    "print(repr(e))\n",
    "print(e.name)\n",
    "print(len(e))\n",
    "e()"
   ]
  },
  {
   "cell_type": "code",
   "execution_count": null,
   "metadata": {},
   "outputs": [],
   "source": []
  }
 ],
 "metadata": {
  "kernelspec": {
   "display_name": "Python 3",
   "language": "python",
   "name": "python3"
  },
  "language_info": {
   "codemirror_mode": {
    "name": "ipython",
    "version": 3
   },
   "file_extension": ".py",
   "mimetype": "text/x-python",
   "name": "python",
   "nbconvert_exporter": "python",
   "pygments_lexer": "ipython3",
   "version": "3.11.5"
  }
 },
 "nbformat": 4,
 "nbformat_minor": 2
}
