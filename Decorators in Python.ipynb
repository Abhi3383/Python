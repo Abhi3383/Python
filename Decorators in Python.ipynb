{
 "cells": [
  {
   "cell_type": "code",
   "execution_count": null,
   "metadata": {},
   "outputs": [],
   "source": [
    "# Decorators modify the function"
   ]
  },
  {
   "cell_type": "code",
   "execution_count": 1,
   "metadata": {},
   "outputs": [],
   "source": [
    "def greet(fx):\n",
    "    def mfx():\n",
    "        print(\"good morning\")\n",
    "        fx()\n",
    "        print(\"Thanks for using this function\")\n",
    "    return mfx\n"
   ]
  },
  {
   "cell_type": "code",
   "execution_count": 2,
   "metadata": {},
   "outputs": [],
   "source": [
    "@greet\n",
    "def hello():\n",
    "    print(\"Hello world\")"
   ]
  },
  {
   "cell_type": "code",
   "execution_count": 3,
   "metadata": {},
   "outputs": [
    {
     "name": "stdout",
     "output_type": "stream",
     "text": [
      "good morning\n",
      "Hello world\n",
      "Thanks for using this function\n"
     ]
    }
   ],
   "source": [
    "# in backend -> greet(hello)()\n",
    "hello()"
   ]
  },
  {
   "cell_type": "code",
   "execution_count": null,
   "metadata": {},
   "outputs": [],
   "source": []
  },
  {
   "cell_type": "code",
   "execution_count": 7,
   "metadata": {},
   "outputs": [],
   "source": [
    "def new_greet(fx):\n",
    "    # mfx is called wrapper function\n",
    "    def mfx(*args,**kwargs):\n",
    "        print(\"good morning\")\n",
    "        fx(*args,**kwargs)\n",
    "        print(\"Thanks for using this function\")\n",
    "    return mfx\n"
   ]
  },
  {
   "cell_type": "code",
   "execution_count": 8,
   "metadata": {},
   "outputs": [],
   "source": [
    "def add(a,b):\n",
    "    print(a+b)"
   ]
  },
  {
   "cell_type": "code",
   "execution_count": 10,
   "metadata": {},
   "outputs": [
    {
     "name": "stdout",
     "output_type": "stream",
     "text": [
      "good morning\n",
      "3\n",
      "Thanks for using this function\n"
     ]
    }
   ],
   "source": [
    "new_greet(add)(1,2)"
   ]
  },
  {
   "cell_type": "code",
   "execution_count": 4,
   "metadata": {},
   "outputs": [
    {
     "data": {
      "text/plain": [
       "'\\n*args -> taking args as a tuple\\n**kargs -> taking args as a dictionary\\n'"
      ]
     },
     "execution_count": 4,
     "metadata": {},
     "output_type": "execute_result"
    }
   ],
   "source": [
    "'''\n",
    " *args -> taking args as a tuple\n",
    " **kargs -> taking args as a dictionary\n",
    "'''"
   ]
  },
  {
   "cell_type": "code",
   "execution_count": 27,
   "metadata": {},
   "outputs": [],
   "source": [
    "import time\n",
    "\n",
    "def timer_decorator(func):\n",
    "    def wrapper(*args, **kwargs):\n",
    "        print(\"decorator\")\n",
    "        start_time = time.time()  # Record the start time\n",
    "        result = func(*args, **kwargs)  # Call the original function\n",
    "        end_time = time.time()  # Record the end time\n",
    "        elapsed_time = end_time - start_time  # Calculate elapsed time\n",
    "        print(f\"{func.__name__} executed in {elapsed_time:.4f} seconds\")\n",
    "        return result  # Return the result of the original function\n",
    "    return wrapper  # Return the wrapper function\n"
   ]
  },
  {
   "cell_type": "code",
   "execution_count": 28,
   "metadata": {},
   "outputs": [],
   "source": [
    "@timer_decorator\n",
    "def sleep_for_seconds(seconds):\n",
    "    print(\"Executing original\")\n",
    "    time.sleep(seconds)\n",
    "    print(f\"Slept for {seconds} seconds!\")\n"
   ]
  },
  {
   "cell_type": "code",
   "execution_count": 29,
   "metadata": {},
   "outputs": [
    {
     "name": "stdout",
     "output_type": "stream",
     "text": [
      "decorator\n",
      "Executing original\n",
      "Slept for 2 seconds!\n",
      "sleep_for_seconds executed in 2.0014 seconds\n"
     ]
    }
   ],
   "source": [
    "sleep_for_seconds(2)  # Sleep for 2 seconds\n"
   ]
  },
  {
   "cell_type": "code",
   "execution_count": 30,
   "metadata": {},
   "outputs": [],
   "source": [
    "@timer_decorator\n",
    "def sum_of_squares(n):\n",
    "    return sum(i**2 for i in range(n))\n"
   ]
  },
  {
   "cell_type": "code",
   "execution_count": 31,
   "metadata": {},
   "outputs": [
    {
     "name": "stdout",
     "output_type": "stream",
     "text": [
      "decorator\n",
      "sum_of_squares executed in 0.2018 seconds\n",
      "Result: 333332833333500000\n"
     ]
    }
   ],
   "source": [
    "result = sum_of_squares(1000000)  # Calculate sum of squares for the first 1 million numbers\n",
    "print(f\"Result: {result}\")\n"
   ]
  },
  {
   "cell_type": "code",
   "execution_count": null,
   "metadata": {},
   "outputs": [],
   "source": []
  }
 ],
 "metadata": {
  "kernelspec": {
   "display_name": "Python 3",
   "language": "python",
   "name": "python3"
  },
  "language_info": {
   "codemirror_mode": {
    "name": "ipython",
    "version": 3
   },
   "file_extension": ".py",
   "mimetype": "text/x-python",
   "name": "python",
   "nbconvert_exporter": "python",
   "pygments_lexer": "ipython3",
   "version": "3.11.5"
  }
 },
 "nbformat": 4,
 "nbformat_minor": 2
}
