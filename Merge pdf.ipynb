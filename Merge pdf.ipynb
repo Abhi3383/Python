{
 "cells": [
  {
   "cell_type": "code",
   "execution_count": null,
   "metadata": {},
   "outputs": [],
   "source": [
    "from PyPDF2 import PdfWriter\n",
    "import os\n",
    "\n",
    "merger = PdfWriter()\n",
    "files = [file for file in os.listdir() if file.endswith(\".pdf\")]\n",
    "\n",
    "for pdf in files:\n",
    "    merger.append(pdf)\n",
    "\n",
    "merger.write(\"merged-pdf.pdf\")\n",
    "merger.close()"
   ]
  },
  {
   "cell_type": "code",
   "execution_count": null,
   "metadata": {},
   "outputs": [],
   "source": [
    "\n"
   ]
  }
 ],
 "metadata": {
  "kernelspec": {
   "display_name": "Python 3",
   "language": "python",
   "name": "python3"
  },
  "language_info": {
   "name": "python",
   "version": "3.11.5"
  }
 },
 "nbformat": 4,
 "nbformat_minor": 2
}
