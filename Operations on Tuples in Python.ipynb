{
 "cells": [
  {
   "cell_type": "code",
   "execution_count": 3,
   "metadata": {},
   "outputs": [
    {
     "name": "stdout",
     "output_type": "stream",
     "text": [
      "(1, 2, 3, 4)\n",
      "<class 'tuple'>\n"
     ]
    }
   ],
   "source": [
    "t1 = (1,2)\n",
    "t2 = (3,4)\n",
    "t3 = t1+t2\n",
    "print(t3)\n",
    "print(type(t3))"
   ]
  },
  {
   "cell_type": "code",
   "execution_count": 6,
   "metadata": {},
   "outputs": [
    {
     "name": "stdout",
     "output_type": "stream",
     "text": [
      "(1, 2, 3, 4)\n",
      "<class 'tuple'>\n"
     ]
    }
   ],
   "source": [
    "t1 = [1,2]\n",
    "t2 = [3,4]\n",
    "t3 = tuple(t1+t2)\n",
    "print(t3)\n",
    "print(type(t3))"
   ]
  },
  {
   "cell_type": "code",
   "execution_count": 11,
   "metadata": {},
   "outputs": [
    {
     "name": "stdout",
     "output_type": "stream",
     "text": [
      "('Spain', 'Italy', 'India')\n",
      "<class 'tuple'>\n",
      "['Spain', 'Italy', 'India', 'Russia']\n",
      "<class 'list'>\n",
      "['Spain', 'Italy', 'India']\n",
      "<class 'list'>\n",
      "('Spain', 'Italy', 'Finland')\n"
     ]
    }
   ],
   "source": [
    "countries = (\"Spain\",\"Italy\",\"India\")\n",
    "print(countries)\n",
    "print(type(countries))\n",
    "temp = list(countries)\n",
    "temp.append(\"Russia\")\n",
    "print(temp)\n",
    "print(type(temp))\n",
    "temp.pop(3)\n",
    "print(temp)\n",
    "print(type(temp))\n",
    "temp[2]=\"Finland\"\n",
    "countries = tuple(temp)\n",
    "print(countries)"
   ]
  },
  {
   "cell_type": "code",
   "execution_count": 20,
   "metadata": {},
   "outputs": [
    {
     "name": "stdout",
     "output_type": "stream",
     "text": [
      "2\n",
      "18\n",
      "18\n"
     ]
    }
   ],
   "source": [
    "x = (1,2,3,4,5,6,7,8,9,1,2,3,4,5,6,7,8,9,0)\n",
    "print(x.count(1))\n",
    "y= x.count(1)\n",
    "print(x.index(0))\n",
    "#             v s e\n",
    "print(x.index(0,1,len(x)))"
   ]
  },
  {
   "cell_type": "code",
   "execution_count": null,
   "metadata": {},
   "outputs": [],
   "source": [
    "\n"
   ]
  }
 ],
 "metadata": {
  "kernelspec": {
   "display_name": "Python 3",
   "language": "python",
   "name": "python3"
  },
  "language_info": {
   "codemirror_mode": {
    "name": "ipython",
    "version": 3
   },
   "file_extension": ".py",
   "mimetype": "text/x-python",
   "name": "python",
   "nbconvert_exporter": "python",
   "pygments_lexer": "ipython3",
   "version": "3.11.5"
  }
 },
 "nbformat": 4,
 "nbformat_minor": 2
}
