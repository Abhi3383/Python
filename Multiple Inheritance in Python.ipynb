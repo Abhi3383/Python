{
 "cells": [
  {
   "cell_type": "code",
   "execution_count": null,
   "metadata": {},
   "outputs": [],
   "source": [
    "'''\n",
    "Multiple Inheritance in Python\n",
    "Multiple inheritance is a powerful feature in object-oriented programming that allows a class to inherit attributes and methods from multiple parent classes. \n",
    "This can be useful in situations where a class needs to inherit functionality from multiple sources.\n",
    "'''"
   ]
  },
  {
   "cell_type": "code",
   "execution_count": null,
   "metadata": {},
   "outputs": [],
   "source": [
    "'''\n",
    "Syntax\n",
    "In Python, multiple inheritance is implemented by specifying multiple parent classes in the class definition, separated by commas.\n",
    "class ChildClass(ParentClass1, ParentClass2, ParentClass3):\n",
    "    # class body\n",
    "'''"
   ]
  },
  {
   "cell_type": "code",
   "execution_count": null,
   "metadata": {},
   "outputs": [],
   "source": [
    "'''\n",
    "In this example, the ChildClass inherits attributes and methods from all three parent classes: ParentClass1, ParentClass2, and ParentClass3.\n",
    "\n",
    "It's important to note that, in case of multiple inheritance, Python follows a method resolution order (MRO) to resolve conflicts between methods or attributes from different parent classes. \n",
    "The MRO determines the order in which parent classes are searched for attributes and methods.\n",
    "'''"
   ]
  },
  {
   "cell_type": "code",
   "execution_count": 1,
   "metadata": {},
   "outputs": [],
   "source": [
    "class Animal:\n",
    "    def __init__(self, name, species):\n",
    "        self.name = name\n",
    "        self.species = species\n",
    "        \n",
    "    def make_sound(self):\n",
    "        print(\"Sound made by the animal\")\n",
    "        \n",
    "class Mammal:\n",
    "    def __init__(self, name, fur_color):\n",
    "        self.name = name\n",
    "        self.fur_color = fur_color\n",
    "        \n",
    "class Dog(Animal, Mammal):\n",
    "    def __init__(self, name, breed, fur_color):\n",
    "        Animal.__init__(self, name, species=\"Dog\")\n",
    "        Mammal.__init__(self, name, fur_color)\n",
    "        self.breed = breed\n",
    "        \n",
    "    def make_sound(self):\n",
    "        print(\"Bark!\")"
   ]
  },
  {
   "cell_type": "code",
   "execution_count": null,
   "metadata": {},
   "outputs": [],
   "source": [
    "'''In this example, the Dog class inherits from both the Animal and Mammal classes, so it can use attributes and methods from both parent classes.'''"
   ]
  },
  {
   "cell_type": "code",
   "execution_count": 2,
   "metadata": {},
   "outputs": [
    {
     "name": "stdout",
     "output_type": "stream",
     "text": [
      "Shivani\n",
      "Kathak\n",
      "The name is Shivani\n",
      "[<class '__main__.DancerEmployee'>, <class '__main__.Employee'>, <class '__main__.Dancer'>, <class 'object'>]\n"
     ]
    }
   ],
   "source": [
    "class Employee:\n",
    "  def __init__(self, name):\n",
    "    self.name = name\n",
    "  def show(self):\n",
    "    print(f\"The name is {self.name}\")\n",
    "\n",
    "class Dancer:\n",
    "  def __init__(self, dance):\n",
    "    self.dance = dance\n",
    "\n",
    "  def show(self):\n",
    "    print(f\"The dance is {self.dance}\")\n",
    "\n",
    "class DancerEmployee(Employee, Dancer):\n",
    "  def __init__(self, dance, name):\n",
    "    self.dance = dance\n",
    "    self.name = name\n",
    "\n",
    "o  = DancerEmployee(\"Kathak\", \"Shivani\")\n",
    "print(o.name)\n",
    "print(o.dance)\n",
    "o.show() \n",
    "print(DancerEmployee.mro())"
   ]
  },
  {
   "cell_type": "code",
   "execution_count": null,
   "metadata": {},
   "outputs": [],
   "source": []
  }
 ],
 "metadata": {
  "kernelspec": {
   "display_name": "Python 3",
   "language": "python",
   "name": "python3"
  },
  "language_info": {
   "codemirror_mode": {
    "name": "ipython",
    "version": 3
   },
   "file_extension": ".py",
   "mimetype": "text/x-python",
   "name": "python",
   "nbconvert_exporter": "python",
   "pygments_lexer": "ipython3",
   "version": "3.11.5"
  }
 },
 "nbformat": 4,
 "nbformat_minor": 2
}
