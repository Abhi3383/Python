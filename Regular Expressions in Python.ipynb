{
 "cells": [
  {
   "cell_type": "code",
   "execution_count": 1,
   "metadata": {},
   "outputs": [
    {
     "data": {
      "text/plain": [
       "'\\nRegular Expressions in Python\\nRegular expressions, or \"regex\" for short, are a powerful tool for working with strings and text data in Python. \\nThey allow you to match and manipulate strings based on patterns, making it easy to perform complex string operations with just a few lines of code.\\n'"
      ]
     },
     "execution_count": 1,
     "metadata": {},
     "output_type": "execute_result"
    }
   ],
   "source": [
    "'''\n",
    "Regular Expressions in Python\n",
    "Regular expressions, or \"regex\" for short, are a powerful tool for working with strings and text data in Python. \n",
    "They allow you to match and manipulate strings based on patterns, making it easy to perform complex string operations with just a few lines of code.\n",
    "'''"
   ]
  },
  {
   "cell_type": "code",
   "execution_count": 2,
   "metadata": {},
   "outputs": [
    {
     "data": {
      "text/plain": [
       "'\\nMetacharacters in regular expressions\\n[]  Represent a character class\\n^   Matches the beginning\\n$   Matches the end\\n.   Matches any character except newline\\n?   Matches zero or one occurrence.\\n|   Means OR (Matches with any of the characters\\n    separated by it.\\n*   Any number of occurrences (including 0 occurrences)\\n+   One or more occurrences\\n{}  Indicate number of occurrences of a preceding RE \\n    to match.\\n()  Enclose a group of REs\\n'"
      ]
     },
     "execution_count": 2,
     "metadata": {},
     "output_type": "execute_result"
    }
   ],
   "source": [
    "'''\n",
    "Metacharacters in regular expressions\n",
    "[]  Represent a character class\n",
    "^   Matches the beginning\n",
    "$   Matches the end\n",
    ".   Matches any character except newline\n",
    "?   Matches zero or one occurrence.\n",
    "|   Means OR (Matches with any of the characters\n",
    "    separated by it.\n",
    "*   Any number of occurrences (including 0 occurrences)\n",
    "+   One or more occurrences\n",
    "{}  Indicate number of occurrences of a preceding RE \n",
    "    to match.\n",
    "()  Enclose a group of REs\n",
    "'''"
   ]
  },
  {
   "cell_type": "code",
   "execution_count": null,
   "metadata": {},
   "outputs": [],
   "source": [
    "'''\n",
    "Importing re Package\n",
    "In Python, regular expressions are supported by the re module. \n",
    "The basic syntax for working with regular expressions in Python is as follows:\n",
    "import re\n",
    "'''"
   ]
  },
  {
   "cell_type": "code",
   "execution_count": null,
   "metadata": {},
   "outputs": [],
   "source": [
    "'''\n",
    "Searching for a pattern in re using re.search() Method\n",
    "re.search() method either returns None (if the pattern doesn’t match), or a re.MatchObject that contains information about the matching part of the string. \n",
    "This method stops after the first match, so this is best suited for testing a regular expression more than extracting data. \n",
    "We can use re.search method like this to search for a pattern in regular expression:\n",
    "'''"
   ]
  },
  {
   "cell_type": "code",
   "execution_count": 4,
   "metadata": {},
   "outputs": [
    {
     "name": "stdout",
     "output_type": "stream",
     "text": [
      "Match not found.\n"
     ]
    }
   ],
   "source": [
    "import re\n",
    "\n",
    "# Define a regular expression pattern\n",
    "pattern = r\"[A-Z]ello\"\n",
    "\n",
    "# Match the pattern against a string\n",
    "text = \"Hello, world!\"\n",
    "\n",
    "match = re.search(pattern, text)\n",
    "\n",
    "if match:\n",
    "    print(\"Match found!\")\n",
    "else:\n",
    "    print(\"Match not found.\")"
   ]
  },
  {
   "cell_type": "code",
   "execution_count": null,
   "metadata": {},
   "outputs": [],
   "source": [
    "'''\n",
    "Searching for a pattern in re using re.findall() Method\n",
    "You can also use the re.findall function to find all occurrences of the pattern in a string:\n",
    "'''"
   ]
  },
  {
   "cell_type": "code",
   "execution_count": 5,
   "metadata": {},
   "outputs": [
    {
     "name": "stdout",
     "output_type": "stream",
     "text": [
      "[]\n"
     ]
    }
   ],
   "source": [
    "import re\n",
    "pattern = r\"expression\"\n",
    "text = \"The cat is in the hat.\"\n",
    "\n",
    "matches = re.findall(pattern, text)\n",
    "\n",
    "print(matches)"
   ]
  },
  {
   "cell_type": "code",
   "execution_count": 6,
   "metadata": {},
   "outputs": [
    {
     "data": {
      "text/plain": [
       "'\\nReplacing a pattern\\nThe following example shows how to replace a pattern in a string:\\n'"
      ]
     },
     "execution_count": 6,
     "metadata": {},
     "output_type": "execute_result"
    }
   ],
   "source": [
    "'''\n",
    "Replacing a pattern\n",
    "The following example shows how to replace a pattern in a string:\n",
    "'''"
   ]
  },
  {
   "cell_type": "code",
   "execution_count": 7,
   "metadata": {},
   "outputs": [
    {
     "name": "stdout",
     "output_type": "stream",
     "text": [
      "['cat', 'hat']\n",
      "The dog is in the dog.\n"
     ]
    }
   ],
   "source": [
    "import re\n",
    "pattern = r\"[a-z]+at\"\n",
    "text = \"The cat is in the hat.\"\n",
    "\n",
    "matches = re.findall(pattern, text)\n",
    "\n",
    "print(matches)\n",
    "# Output: ['cat', 'hat']\n",
    "\n",
    "new_text = re.sub(pattern, \"dog\", text)\n",
    "\n",
    "print(new_text)\n",
    "# Output: \"The dog is in the dog.\""
   ]
  },
  {
   "cell_type": "code",
   "execution_count": 8,
   "metadata": {},
   "outputs": [
    {
     "data": {
      "text/plain": [
       "'\\nExtracting information from a string\\nThe following example shows how to extract information from a string using regular expressions:\\n'"
      ]
     },
     "execution_count": 8,
     "metadata": {},
     "output_type": "execute_result"
    }
   ],
   "source": [
    "'''\n",
    "Extracting information from a string\n",
    "The following example shows how to extract information from a string using regular expressions:\n",
    "'''"
   ]
  },
  {
   "cell_type": "code",
   "execution_count": 9,
   "metadata": {},
   "outputs": [
    {
     "name": "stdout",
     "output_type": "stream",
     "text": [
      "example@example.com\n"
     ]
    }
   ],
   "source": [
    "import re\n",
    "\n",
    "text = \"The email address is example@example.com.\"\n",
    "\n",
    "pattern = r\"\\w+@\\w+\\.\\w+\"\n",
    "\n",
    "match = re.search(pattern, text)\n",
    "\n",
    "if match:\n",
    "    email = match.group()\n",
    "    print(email)"
   ]
  },
  {
   "cell_type": "code",
   "execution_count": null,
   "metadata": {},
   "outputs": [],
   "source": []
  }
 ],
 "metadata": {
  "kernelspec": {
   "display_name": "Python 3",
   "language": "python",
   "name": "python3"
  },
  "language_info": {
   "codemirror_mode": {
    "name": "ipython",
    "version": 3
   },
   "file_extension": ".py",
   "mimetype": "text/x-python",
   "name": "python",
   "nbconvert_exporter": "python",
   "pygments_lexer": "ipython3",
   "version": "3.11.5"
  }
 },
 "nbformat": 4,
 "nbformat_minor": 2
}
