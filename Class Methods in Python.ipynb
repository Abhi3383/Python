{
 "cells": [
  {
   "cell_type": "code",
   "execution_count": null,
   "metadata": {},
   "outputs": [],
   "source": [
    "'''\n",
    "Python Class Methods\n",
    "Python Class Methods: An Introduction\n",
    "In Python, classes are a way to define custom data types that can store data and define functions that can manipulate that data. \n",
    "One type of function that can be defined within a class is called a \"method.\" \n",
    "In this blog post, we will explore what Python class methods are, why they are useful, and how to use them.\n",
    "'''"
   ]
  },
  {
   "cell_type": "code",
   "execution_count": null,
   "metadata": {},
   "outputs": [],
   "source": [
    "'''\n",
    "What are Python Class Methods?\n",
    "A class method is a type of method that is bound to the class and not the instance of the class. \n",
    "In other words, it operates on the class as a whole, rather than on a specific instance of the class. \n",
    "Class methods are defined using the \"@classmethod\" decorator, followed by a function definition. \n",
    "The first argument of the function is always \"cls,\" which represents the class itself.\n",
    "\n",
    "Why Use Python Class Methods?\n",
    "Class methods are useful in several situations. \n",
    "For example, you might want to create a factory method that creates instances of your class in a specific way. \n",
    "You could define a class method that creates the instance and returns it to the caller. \n",
    "Another common use case is to provide alternative constructors for your class. \n",
    "This can be useful if you want to create instances of your class in multiple ways, but still have a consistent interface for doing so.\n",
    "'''"
   ]
  },
  {
   "cell_type": "code",
   "execution_count": null,
   "metadata": {},
   "outputs": [],
   "source": [
    "'''\n",
    "How to Use Python Class Methods\n",
    "To define a class method, you simply use the \"@classmethod\" decorator before the method definition. \n",
    "The first argument of the method should always be \"cls,\" which represents the class itself. \n",
    "Here is an example of how to define a class method:\n",
    "'''"
   ]
  },
  {
   "cell_type": "code",
   "execution_count": 3,
   "metadata": {},
   "outputs": [],
   "source": [
    "class Employee:\n",
    "  company = \"Apple\"\n",
    "  def show(self):\n",
    "    print(f\"The name is {self.name} and company is {self.company}\")\n",
    "\n",
    "  @classmethod\n",
    "  def changeCompany(cls, newCompany):\n",
    "    cls.company = newCompany\n"
   ]
  },
  {
   "cell_type": "code",
   "execution_count": 4,
   "metadata": {},
   "outputs": [
    {
     "name": "stdout",
     "output_type": "stream",
     "text": [
      "The name is Harry and company is Apple\n",
      "The name is Harry and company is Tesla\n",
      "Tesla\n"
     ]
    }
   ],
   "source": [
    "e1 = Employee()\n",
    "e1.name = \"Harry\"\n",
    "e1.show()\n",
    "e1.changeCompany(\"Tesla\")\n",
    "e1.show()\n",
    "print(Employee.company)"
   ]
  },
  {
   "cell_type": "code",
   "execution_count": null,
   "metadata": {},
   "outputs": [],
   "source": []
  }
 ],
 "metadata": {
  "kernelspec": {
   "display_name": "Python 3",
   "language": "python",
   "name": "python3"
  },
  "language_info": {
   "codemirror_mode": {
    "name": "ipython",
    "version": 3
   },
   "file_extension": ".py",
   "mimetype": "text/x-python",
   "name": "python",
   "nbconvert_exporter": "python",
   "pygments_lexer": "ipython3",
   "version": "3.11.5"
  }
 },
 "nbformat": 4,
 "nbformat_minor": 2
}
