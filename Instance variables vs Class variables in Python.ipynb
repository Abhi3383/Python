{
 "cells": [
  {
   "cell_type": "code",
   "execution_count": 1,
   "metadata": {},
   "outputs": [
    {
     "data": {
      "text/plain": [
       "'\\nInstance Variables\\nInstance variables are defined at the instance level and are unique to each instance of the class. \\nThey are defined inside the init method and are usually used to store information that is specific to each instance of the class. \\nFor example, an instance variable can be used to store the name of an employee in a class that represents an employee.\\n'"
      ]
     },
     "execution_count": 1,
     "metadata": {},
     "output_type": "execute_result"
    }
   ],
   "source": [
    "'''\n",
    "Instance Variables\n",
    "Instance variables are defined at the instance level and are unique to each instance of the class. \n",
    "They are defined inside the init method and are usually used to store information that is specific to each instance of the class. \n",
    "For example, an instance variable can be used to store the name of an employee in a class that represents an employee.\n",
    "'''"
   ]
  },
  {
   "cell_type": "code",
   "execution_count": 2,
   "metadata": {},
   "outputs": [
    {
     "name": "stdout",
     "output_type": "stream",
     "text": [
      "John\n",
      "Jane\n"
     ]
    }
   ],
   "source": [
    "class MyClass:\n",
    "    def __init__(self, name):\n",
    "        self.name = name\n",
    "        \n",
    "    def print_name(self):\n",
    "        print(self.name)\n",
    "\n",
    "obj1 = MyClass(\"John\")\n",
    "obj2 = MyClass(\"Jane\")\n",
    "\n",
    "obj1.print_name() # Output: John\n",
    "obj2.print_name() # Output: Jane"
   ]
  },
  {
   "cell_type": "code",
   "execution_count": 3,
   "metadata": {},
   "outputs": [
    {
     "data": {
      "text/plain": [
       "'\\nIn the example above, the class_variable is shared among all instances of the class MyClass. \\nWhen we create new instances of MyClass, the value of class_variable is incremented. \\nWhen we call the print_class_variable method on obj1 and obj2, we get the same value of class_variable.\\n'"
      ]
     },
     "execution_count": 3,
     "metadata": {},
     "output_type": "execute_result"
    }
   ],
   "source": [
    "'''\n",
    "In the example above, the class_variable is shared among all instances of the class MyClass. \n",
    "When we create new instances of MyClass, the value of class_variable is incremented. \n",
    "When we call the print_class_variable method on obj1 and obj2, we get the same value of class_variable.\n",
    "'''"
   ]
  },
  {
   "cell_type": "code",
   "execution_count": null,
   "metadata": {},
   "outputs": [],
   "source": [
    "'''\n",
    "Instance Variables\n",
    "Instance variables are defined at the instance level and are unique to each instance of the class. \n",
    "They are defined inside the init method and are usually used to store information that is specific to each instance of the class. \n",
    "For example, an instance variable can be used to store the name of an employee in a class that represents an employee.\n",
    "'''"
   ]
  },
  {
   "cell_type": "code",
   "execution_count": 4,
   "metadata": {},
   "outputs": [
    {
     "name": "stdout",
     "output_type": "stream",
     "text": [
      "John\n",
      "Jane\n"
     ]
    }
   ],
   "source": [
    "class MyClass:\n",
    "    def __init__(self, name):\n",
    "        self.name = name\n",
    "        \n",
    "    def print_name(self):\n",
    "        print(self.name)\n",
    "\n",
    "obj1 = MyClass(\"John\")\n",
    "obj2 = MyClass(\"Jane\")\n",
    "\n",
    "obj1.print_name() # Output: John\n",
    "obj2.print_name() # Output: Jane"
   ]
  },
  {
   "cell_type": "code",
   "execution_count": 5,
   "metadata": {},
   "outputs": [
    {
     "data": {
      "text/plain": [
       "'\\nIn the example above, each instance of the class MyClass has its own value for the name variable. \\nWhen we call the print_name method on obj1 and obj2, we get different values for name.\\n'"
      ]
     },
     "execution_count": 5,
     "metadata": {},
     "output_type": "execute_result"
    }
   ],
   "source": [
    "'''\n",
    "In the example above, each instance of the class MyClass has its own value for the name variable. \n",
    "When we call the print_name method on obj1 and obj2, we get different values for name.\n",
    "'''"
   ]
  },
  {
   "cell_type": "code",
   "execution_count": null,
   "metadata": {},
   "outputs": [],
   "source": [
    "'''\n",
    "Summary\n",
    "In summary, class variables are shared among all instances of a class and are used to store information that is common to all instances. \n",
    "Instance variables are unique to each instance of a class and are used to store information that is specific to each instance. \n",
    "Understanding the difference between class variables and instance variables is crucial for writing efficient and maintainable code in Python.\n",
    "\n",
    "It's also worth noting that, in python, class variables are defined outside of any methods and don't need to be explicitly declared as class variable. \n",
    "They are defined in the class level and can be accessed via classname.varibale_name or self.class.variable_name. But instance variables are defined inside the methods and need to be explicitly declared as instance variable by using self.variable_name.\n",
    "'''"
   ]
  },
  {
   "cell_type": "code",
   "execution_count": 6,
   "metadata": {},
   "outputs": [
    {
     "name": "stdout",
     "output_type": "stream",
     "text": [
      "The name of the Employee is Harry and the raise amount in 1 sized Apple India is 0.3\n",
      "Google\n",
      "The name of the Employee is Rohan and the raise amount in 2 sized Nestle is 0.02\n"
     ]
    }
   ],
   "source": [
    "class Employee:\n",
    "  companyName = \"Apple\" # class variable\n",
    "  noOfEmployees = 0 # class variable\n",
    "  def __init__(self, name):\n",
    "    self.name = name\n",
    "    self.raise_amount = 0.02 # instance variable\n",
    "    Employee.noOfEmployees +=1\n",
    "  def showDetails(self):\n",
    "    print(f\"The name of the Employee is {self.name} and the raise amount in {self.noOfEmployees} sized {self.companyName} is {self.raise_amount}\")\n",
    "\n",
    "# Employee.showDetails(emp1)\n",
    "emp1 = Employee(\"Harry\")\n",
    "emp1.raise_amount = 0.3 # instance variable being changed\n",
    "emp1.companyName = \"Apple India\" # class variable being changed \n",
    "emp1.showDetails()\n",
    "Employee.companyName = \"Google\"\n",
    "print(Employee.companyName)\n",
    "\n",
    "emp2 = Employee(\"Rohan\")\n",
    "emp2.companyName = \"Nestle\"\n",
    "emp2.showDetails()\n"
   ]
  },
  {
   "cell_type": "code",
   "execution_count": null,
   "metadata": {},
   "outputs": [],
   "source": []
  }
 ],
 "metadata": {
  "kernelspec": {
   "display_name": "Python 3",
   "language": "python",
   "name": "python3"
  },
  "language_info": {
   "codemirror_mode": {
    "name": "ipython",
    "version": 3
   },
   "file_extension": ".py",
   "mimetype": "text/x-python",
   "name": "python",
   "nbconvert_exporter": "python",
   "pygments_lexer": "ipython3",
   "version": "3.11.5"
  }
 },
 "nbformat": 4,
 "nbformat_minor": 2
}
