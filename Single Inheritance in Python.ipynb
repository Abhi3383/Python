{
 "cells": [
  {
   "cell_type": "code",
   "execution_count": null,
   "metadata": {},
   "outputs": [],
   "source": [
    "'''\n",
    "Single Inheritance in Python\n",
    "Single inheritance is a type of inheritance where a class inherits properties and behaviors from a single parent class. \n",
    "This is the simplest and most common form of inheritance.\n",
    "'''"
   ]
  },
  {
   "cell_type": "code",
   "execution_count": null,
   "metadata": {},
   "outputs": [],
   "source": [
    "'''\n",
    "Syntax\n",
    "The syntax for single inheritance in Python is straightforward and easy to understand. \n",
    "To create a new class that inherits from a parent class, simply specify the parent class in the class definition, inside the parentheses.\n",
    "'''"
   ]
  },
  {
   "cell_type": "code",
   "execution_count": 3,
   "metadata": {},
   "outputs": [
    {
     "data": {
      "text/plain": [
       "'\\nExample\\nLet\\'s consider a simple example of single inheritance in Python. \\nConsider a class named \"Animal\" that contains the attributes and behaviors that are common to all animals.\\n'"
      ]
     },
     "execution_count": 3,
     "metadata": {},
     "output_type": "execute_result"
    }
   ],
   "source": [
    "'''\n",
    "Example\n",
    "Let's consider a simple example of single inheritance in Python. \n",
    "Consider a class named \"Animal\" that contains the attributes and behaviors that are common to all animals.\n",
    "'''"
   ]
  },
  {
   "cell_type": "code",
   "execution_count": 4,
   "metadata": {},
   "outputs": [],
   "source": [
    "class Animal:\n",
    "    def __init__(self, name, species):\n",
    "        self.name = name\n",
    "        self.species = species\n",
    "        \n",
    "    def make_sound(self):\n",
    "        print(\"Sound made by the animal\")"
   ]
  },
  {
   "cell_type": "code",
   "execution_count": null,
   "metadata": {},
   "outputs": [],
   "source": [
    "'''If we want to create a new class for a specific type of animal, such as a dog, we can create a new class named \"Dog\" that inherits from the Animal class.'''"
   ]
  },
  {
   "cell_type": "code",
   "execution_count": 5,
   "metadata": {},
   "outputs": [],
   "source": [
    "class Dog(Animal):\n",
    "    def __init__(self, name, breed):\n",
    "        Animal.__init__(self, name, species=\"Dog\")\n",
    "        self.breed = breed\n",
    "        \n",
    "    def make_sound(self):\n",
    "        print(\"Bark!\")"
   ]
  },
  {
   "cell_type": "code",
   "execution_count": null,
   "metadata": {},
   "outputs": [],
   "source": [
    "'''\n",
    "The Dog class inherits all the attributes and behaviors of the Animal class, including the __init__ method and the make_sound method. \n",
    "Additionally, the Dog class has its own __init__ method that adds a new attribute for the breed of the dog, and it also overrides the make_sound method to specify the sound that a dog makes.\n",
    "\n",
    "Single inheritance is a powerful tool in Python that allows you to create new classes based on existing classes. \n",
    "It allows you to reuse code, extend it to fit your needs, and make it easier to manage complex systems. \n",
    "Understanding single inheritance is an important step in becoming proficient in object-oriented programming in Python.\n",
    "'''"
   ]
  },
  {
   "cell_type": "code",
   "execution_count": 14,
   "metadata": {},
   "outputs": [
    {
     "name": "stdout",
     "output_type": "stream",
     "text": [
      "Bark!\n",
      "Sound made by the animal\n",
      "name : Dog , species : Dog\n"
     ]
    }
   ],
   "source": [
    "class Animal:\n",
    "    def __init__(self, name, species):\n",
    "        self.name = name\n",
    "        self.species = species\n",
    "        \n",
    "    def make_sound(self):\n",
    "        print(\"Sound made by the animal\")\n",
    "        print(f\"name : {self.name} , species : {self.species}\")\n",
    "\n",
    "class Dog(Animal):\n",
    "    def __init__(self, name, breed):\n",
    "        Animal.__init__(self, name, breed)\n",
    "        self.breed = breed\n",
    "        \n",
    "    def make_sound(self):\n",
    "        print(\"Bark!\")\n",
    "\n",
    "d = Dog(\"Dog\", \"Doggerman\")\n",
    "d.make_sound()\n",
    "\n",
    "a = Animal(\"Dog\", \"Dog\")\n",
    "a.make_sound()\n"
   ]
  },
  {
   "cell_type": "code",
   "execution_count": null,
   "metadata": {},
   "outputs": [],
   "source": [
    "# "
   ]
  }
 ],
 "metadata": {
  "kernelspec": {
   "display_name": "Python 3",
   "language": "python",
   "name": "python3"
  },
  "language_info": {
   "codemirror_mode": {
    "name": "ipython",
    "version": 3
   },
   "file_extension": ".py",
   "mimetype": "text/x-python",
   "name": "python",
   "nbconvert_exporter": "python",
   "pygments_lexer": "ipython3",
   "version": "3.11.5"
  }
 },
 "nbformat": 4,
 "nbformat_minor": 2
}
