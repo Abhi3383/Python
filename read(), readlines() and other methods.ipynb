{
 "cells": [
  {
   "cell_type": "code",
   "execution_count": 4,
   "metadata": {},
   "outputs": [
    {
     "name": "stdout",
     "output_type": "stream",
     "text": [
      "Hello world\n",
      "\n",
      "How're you\n",
      "\n",
      "Abhishek here\n",
      "\n",
      "Hey I am inside with\n",
      " <class 'str'>\n"
     ]
    }
   ],
   "source": [
    "f = open('myfile1.txt','r')\n",
    "while True:\n",
    "    line = f.readline()\n",
    "    if not line:\n",
    "        print(line, type(line))\n",
    "        break\n",
    "    print(line)"
   ]
  },
  {
   "cell_type": "code",
   "execution_count": 7,
   "metadata": {},
   "outputs": [
    {
     "name": "stdout",
     "output_type": "stream",
     "text": [
      "Marks of student 1 in maths is: 14\n",
      "Marks of student 1 in scienece is: 20\n",
      "Marks of student 1 in english is: 24\n",
      "Marks of student 2 in maths is: 111\n",
      "Marks of student 2 in scienece is: 532\n",
      "Marks of student 2 in english is: 723\n",
      "Marks of student 3 in maths is: 6231\n",
      "Marks of student 3 in scienece is: 1253\n",
      "Marks of student 3 in english is: 2232\n",
      " <class 'str'>\n"
     ]
    }
   ],
   "source": [
    "f = open('myfile2.txt','r')\n",
    "i = 0\n",
    "while True:\n",
    "    i += 1\n",
    "    line = f.readline()\n",
    "    if not line:\n",
    "        print(line, type(line))\n",
    "        break\n",
    "    m1 = int(line.split(\",\")[0])\n",
    "    m2 = int(line.split(\",\")[1])\n",
    "    m3 = int(line.split(\",\")[2])\n",
    "    print(f\"Marks of student {i} in maths is: {m1}\")\n",
    "    print(f\"Marks of student {i} in scienece is: {m2}\")\n",
    "    print(f\"Marks of student {i} in english is: {m3}\")\n",
    "    "
   ]
  },
  {
   "cell_type": "code",
   "execution_count": 8,
   "metadata": {},
   "outputs": [],
   "source": [
    "f = open('myfile3.txt','w')\n",
    "lines = ['line 1\\n','line 2\\n','line 3\\n']\n",
    "f.writelines(lines)\n",
    "f.close()"
   ]
  },
  {
   "cell_type": "code",
   "execution_count": 9,
   "metadata": {},
   "outputs": [],
   "source": [
    "f = open('myfile4.txt','w')\n",
    "lines = ['line 1','line 2','line 3']\n",
    "for line in lines:\n",
    "    f.write(line + '\\n')\n",
    "f.close()"
   ]
  },
  {
   "cell_type": "code",
   "execution_count": null,
   "metadata": {},
   "outputs": [],
   "source": []
  }
 ],
 "metadata": {
  "kernelspec": {
   "display_name": "Python 3",
   "language": "python",
   "name": "python3"
  },
  "language_info": {
   "codemirror_mode": {
    "name": "ipython",
    "version": 3
   },
   "file_extension": ".py",
   "mimetype": "text/x-python",
   "name": "python",
   "nbconvert_exporter": "python",
   "pygments_lexer": "ipython3",
   "version": "3.11.5"
  }
 },
 "nbformat": 4,
 "nbformat_minor": 2
}
