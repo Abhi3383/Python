{
 "cells": [
  {
   "cell_type": "code",
   "execution_count": null,
   "metadata": {},
   "outputs": [],
   "source": [
    "'''\n",
    "The Walrus Operator in Python\n",
    "The Walrus Operator is a new addition to Python 3.8 and allows you to assign a value to a variable within an expression. \n",
    "This can be useful when you need to use a value multiple times in a loop, but don't want to repeat the calculation.\n",
    "\n",
    "The Walrus Operator is represented by the := syntax and can be used in a variety of contexts including while loops and if statements.\n",
    "\n",
    "Here's an example of how you can use the Walrus Operator in a while loop:\n",
    "'''"
   ]
  },
  {
   "cell_type": "code",
   "execution_count": 1,
   "metadata": {},
   "outputs": [
    {
     "name": "stdout",
     "output_type": "stream",
     "text": [
      "5\n",
      "4\n",
      "3\n",
      "2\n",
      "1\n"
     ]
    }
   ],
   "source": [
    "numbers = [1, 2, 3, 4, 5]\n",
    "\n",
    "while (n := len(numbers)) > 0:\n",
    "    print(numbers.pop())"
   ]
  },
  {
   "cell_type": "code",
   "execution_count": null,
   "metadata": {},
   "outputs": [],
   "source": [
    "'''\n",
    "In this example, the length of the numbers list is assigned to the variable n using the Walrus Operator. \n",
    "The value of n is then used in the condition of the while loop, so that the loop will continue to execute until the numbers list is empty.\n",
    "\n",
    "Another example of using the Walrus Operator in an if statement:\n",
    "'''"
   ]
  },
  {
   "cell_type": "code",
   "execution_count": 4,
   "metadata": {},
   "outputs": [
    {
     "name": "stdout",
     "output_type": "stream",
     "text": [
      "Hello, John!\n"
     ]
    }
   ],
   "source": [
    "names = [\"John\", \"Jane\", \"Jim\"]\n",
    "\n",
    "if (name := input(\"Enter a name: \")) in names:\n",
    "    print(f\"Hello, {name}!\")\n",
    "else:\n",
    "    print(\"Name not found.\")"
   ]
  },
  {
   "cell_type": "code",
   "execution_count": 1,
   "metadata": {},
   "outputs": [
    {
     "name": "stdout",
     "output_type": "stream",
     "text": [
      "True\n",
      "True\n"
     ]
    }
   ],
   "source": [
    "happy = True\n",
    "print(happy)\n",
    "\n",
    "print(happy := True)"
   ]
  },
  {
   "cell_type": "code",
   "execution_count": 2,
   "metadata": {},
   "outputs": [],
   "source": [
    "foods = list()\n",
    "while True:\n",
    "  food = input(\"What food do you like?: \")\n",
    "  if food == \"quit\":\n",
    "    break\n",
    "  foods.append(food)"
   ]
  },
  {
   "cell_type": "code",
   "execution_count": null,
   "metadata": {},
   "outputs": [],
   "source": [
    "foods = list()\n",
    "while (food := input(\"What food do you like?: \")) != \"quit\":\n",
    "    foods.append(food)"
   ]
  }
 ],
 "metadata": {
  "kernelspec": {
   "display_name": "Python 3",
   "language": "python",
   "name": "python3"
  },
  "language_info": {
   "codemirror_mode": {
    "name": "ipython",
    "version": 3
   },
   "file_extension": ".py",
   "mimetype": "text/x-python",
   "name": "python",
   "nbconvert_exporter": "python",
   "pygments_lexer": "ipython3",
   "version": "3.11.5"
  }
 },
 "nbformat": 4,
 "nbformat_minor": 2
}
