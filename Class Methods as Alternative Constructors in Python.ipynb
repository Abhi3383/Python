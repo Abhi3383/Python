{
 "cells": [
  {
   "cell_type": "code",
   "execution_count": null,
   "metadata": {},
   "outputs": [],
   "source": [
    "'''\n",
    "Class Methods as Alternative Constructors\n",
    "In object-oriented programming, the term \"constructor\" refers to a special type of method that is automatically executed when an object is created from a class. \n",
    "The purpose of a constructor is to initialize the object's attributes, allowing the object to be fully functional and ready to use.\n",
    "\n",
    "However, there are times when you may want to create an object in a different way, or with different initial values, than what is provided by the default constructor. \n",
    "This is where class methods can be used as alternative constructors.\n",
    "\n",
    "A class method belongs to the class rather than to an instance of the class. \n",
    "One common use case for class methods as alternative constructors is when you want to create an object from data that is stored in a different format, such as a string or a dictionary. \n",
    "For example, consider a class named \"Person\" that has two attributes: \"name\" and \"age\". The default constructor for the class might look like this:\n",
    "'''"
   ]
  },
  {
   "cell_type": "code",
   "execution_count": 1,
   "metadata": {},
   "outputs": [],
   "source": [
    "class Person:\n",
    "    def __init__(self, name, age):\n",
    "        self.name = name\n",
    "        self.age = age"
   ]
  },
  {
   "cell_type": "code",
   "execution_count": null,
   "metadata": {},
   "outputs": [],
   "source": [
    "'''\n",
    "But what if you want to create a Person object from a string that contains the person's name and age, separated by a comma? \n",
    "You can define a class method named \"from_string\" to do this:\n",
    "'''"
   ]
  },
  {
   "cell_type": "code",
   "execution_count": 2,
   "metadata": {},
   "outputs": [],
   "source": [
    "class Person:\n",
    "    def __init__(self, name, age):\n",
    "        self.name = name\n",
    "        self.age = age\n",
    "\n",
    "    @classmethod\n",
    "    def from_string(cls, string):\n",
    "        name, age = string.split(',')\n",
    "        return cls(name, int(age))"
   ]
  },
  {
   "cell_type": "code",
   "execution_count": 3,
   "metadata": {},
   "outputs": [
    {
     "data": {
      "text/plain": [
       "'\\nNow you can create a Person object from a string like this:\\n'"
      ]
     },
     "execution_count": 3,
     "metadata": {},
     "output_type": "execute_result"
    }
   ],
   "source": [
    "'''\n",
    "Now you can create a Person object from a string like this:\n",
    "'''"
   ]
  },
  {
   "cell_type": "code",
   "execution_count": 4,
   "metadata": {},
   "outputs": [],
   "source": [
    "person = Person.from_string(\"John Doe, 30\")"
   ]
  },
  {
   "cell_type": "code",
   "execution_count": null,
   "metadata": {},
   "outputs": [],
   "source": [
    "'''\n",
    "Another common use case for class methods as alternative constructors is when you want to create an object with a different set of default values than what is provided by the default constructor. \n",
    "For example, consider a class named \"Rectangle\" that has two attributes: \"width\" and \"height\". The default constructor for the class might look like this:\n",
    "'''"
   ]
  },
  {
   "cell_type": "code",
   "execution_count": 5,
   "metadata": {},
   "outputs": [],
   "source": [
    "class Rectangle:\n",
    "    def __init__(self, width, height):\n",
    "        self.width = width\n",
    "        self.height = height"
   ]
  },
  {
   "cell_type": "code",
   "execution_count": null,
   "metadata": {},
   "outputs": [],
   "source": [
    "'''\n",
    "But what if you want to create a Rectangle object with a default width of 10 and a default height of 5? \n",
    "You can define a class method named \"square\" to do this:\n",
    "'''"
   ]
  },
  {
   "cell_type": "code",
   "execution_count": 6,
   "metadata": {},
   "outputs": [],
   "source": [
    "class Rectangle:\n",
    "  def __init__(self, width, height):\n",
    "    self.width = width\n",
    "    self.height = height\n",
    "\n",
    "  @classmethod\n",
    "  def square(cls, size):\n",
    "    return cls(size, size)"
   ]
  },
  {
   "cell_type": "code",
   "execution_count": 7,
   "metadata": {},
   "outputs": [
    {
     "data": {
      "text/plain": [
       "'\\nNow you can create a square rectangle like this:\\n'"
      ]
     },
     "execution_count": 7,
     "metadata": {},
     "output_type": "execute_result"
    }
   ],
   "source": [
    "'''\n",
    "Now you can create a square rectangle like this:\n",
    "'''"
   ]
  },
  {
   "cell_type": "code",
   "execution_count": 8,
   "metadata": {},
   "outputs": [],
   "source": [
    "rectangle = Rectangle.square(10)"
   ]
  },
  {
   "cell_type": "code",
   "execution_count": 11,
   "metadata": {},
   "outputs": [],
   "source": [
    "class Employee:\n",
    "  def __init__(self, name, salary):\n",
    "    self.name = name \n",
    "    self.salary = salary\n",
    "    \n",
    "  @classmethod\n",
    "  def fromStr(cls, string):\n",
    "    return cls(string.split(\"-\")[0], int(string.split(\"-\")[1]))"
   ]
  },
  {
   "cell_type": "code",
   "execution_count": 12,
   "metadata": {},
   "outputs": [
    {
     "name": "stdout",
     "output_type": "stream",
     "text": [
      "Harry\n",
      "12000\n",
      "John\n",
      "12000\n"
     ]
    }
   ],
   "source": [
    "e1 = Employee(\"Harry\", 12000)\n",
    "print(e1.name)\n",
    "print(e1.salary)\n",
    "\n",
    "string = \"John-12000\"\n",
    "e2 = Employee.fromStr(string)\n",
    "print(e2.name)\n",
    "print(e2.salary)"
   ]
  },
  {
   "cell_type": "code",
   "execution_count": 15,
   "metadata": {},
   "outputs": [],
   "source": [
    "\n",
    "\n",
    "class Person:\n",
    "    def __init__(self, name, age):\n",
    "        self.name = name\n",
    "        self.age = age\n",
    "\n",
    "    @classmethod\n",
    "    def from_string(cls, string):\n",
    "        name, age = string.split(',')\n",
    "        return cls(name, int(age))"
   ]
  },
  {
   "cell_type": "code",
   "execution_count": 16,
   "metadata": {},
   "outputs": [
    {
     "ename": "TypeError",
     "evalue": "Person() takes no arguments",
     "output_type": "error",
     "traceback": [
      "\u001b[1;31m---------------------------------------------------------------------------\u001b[0m",
      "\u001b[1;31mTypeError\u001b[0m                                 Traceback (most recent call last)",
      "Cell \u001b[1;32mIn[16], line 1\u001b[0m\n\u001b[1;32m----> 1\u001b[0m person \u001b[38;5;241m=\u001b[39m \u001b[43mPerson\u001b[49m\u001b[38;5;241;43m.\u001b[39;49m\u001b[43mfrom_string\u001b[49m\u001b[43m(\u001b[49m\u001b[38;5;124;43m\"\u001b[39;49m\u001b[38;5;124;43mJohn Doe, 30\u001b[39;49m\u001b[38;5;124;43m\"\u001b[39;49m\u001b[43m)\u001b[49m\n\u001b[0;32m      2\u001b[0m \u001b[38;5;28mprint\u001b[39m(person\u001b[38;5;241m.\u001b[39mname, person\u001b[38;5;241m.\u001b[39mage)\n",
      "Cell \u001b[1;32mIn[15], line 9\u001b[0m, in \u001b[0;36mPerson.from_string\u001b[1;34m(cls, string)\u001b[0m\n\u001b[0;32m      6\u001b[0m \u001b[38;5;129m@classmethod\u001b[39m\n\u001b[0;32m      7\u001b[0m \u001b[38;5;28;01mdef\u001b[39;00m \u001b[38;5;21mfrom_string\u001b[39m(\u001b[38;5;28mcls\u001b[39m, string):\n\u001b[0;32m      8\u001b[0m     name, age \u001b[38;5;241m=\u001b[39m string\u001b[38;5;241m.\u001b[39msplit(\u001b[38;5;124m'\u001b[39m\u001b[38;5;124m,\u001b[39m\u001b[38;5;124m'\u001b[39m)\n\u001b[1;32m----> 9\u001b[0m     \u001b[38;5;28;01mreturn\u001b[39;00m \u001b[38;5;28;43mcls\u001b[39;49m\u001b[43m(\u001b[49m\u001b[43mname\u001b[49m\u001b[43m,\u001b[49m\u001b[43m \u001b[49m\u001b[38;5;28;43mint\u001b[39;49m\u001b[43m(\u001b[49m\u001b[43mage\u001b[49m\u001b[43m)\u001b[49m\u001b[43m)\u001b[49m\n",
      "\u001b[1;31mTypeError\u001b[0m: Person() takes no arguments"
     ]
    }
   ],
   "source": [
    "\n",
    "person = Person.from_string(\"John Doe, 30\")\n",
    "print(person.name, person.age)"
   ]
  },
  {
   "cell_type": "code",
   "execution_count": null,
   "metadata": {},
   "outputs": [],
   "source": []
  }
 ],
 "metadata": {
  "kernelspec": {
   "display_name": "Python 3",
   "language": "python",
   "name": "python3"
  },
  "language_info": {
   "codemirror_mode": {
    "name": "ipython",
    "version": 3
   },
   "file_extension": ".py",
   "mimetype": "text/x-python",
   "name": "python",
   "nbconvert_exporter": "python",
   "pygments_lexer": "ipython3",
   "version": "3.11.5"
  }
 },
 "nbformat": 4,
 "nbformat_minor": 2
}
