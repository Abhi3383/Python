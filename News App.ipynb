{
 "cells": [
  {
   "cell_type": "code",
   "execution_count": null,
   "metadata": {},
   "outputs": [
    {
     "name": "stdout",
     "output_type": "stream",
     "text": [
      "{\"status\":\"error\",\"code\":\"apiKeyInvalid\",\"message\":\"Your API key is invalid or incorrect. Check your key, or go to https://newsapi.org to create a free API key.\"}\n"
     ]
    }
   ],
   "source": [
    "import requests\n",
    "import json\n",
    "\n",
    "query = input(\"What type of news are you interested in? \")\n",
    "url = f\"https://newsapi.org/v2/everything?q={query}&from=2024-12-09&sortBy=publishedAt&apiKey=API_KEY\"\n",
    "r = requests.get(url)\n",
    "print(r.text)\n",
    "news = json.loads(r.text)\n",
    "print(news, type(news))\n",
    "for article in news[\"articles\"]:\n",
    "  print(article[\"title\"])\n",
    "  print(article[\"description\"])\n",
    "  print(\"--------------------------------------\")\n",
    "  \n"
   ]
  },
  {
   "cell_type": "code",
   "execution_count": null,
   "metadata": {},
   "outputs": [],
   "source": []
  }
 ],
 "metadata": {
  "kernelspec": {
   "display_name": "Python 3",
   "language": "python",
   "name": "python3"
  },
  "language_info": {
   "codemirror_mode": {
    "name": "ipython",
    "version": 3
   },
   "file_extension": ".py",
   "mimetype": "text/x-python",
   "name": "python",
   "nbconvert_exporter": "python",
   "pygments_lexer": "ipython3",
   "version": "3.11.5"
  }
 },
 "nbformat": 4,
 "nbformat_minor": 2
}
