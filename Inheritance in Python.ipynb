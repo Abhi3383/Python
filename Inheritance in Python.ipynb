{
 "cells": [
  {
   "cell_type": "code",
   "execution_count": 1,
   "metadata": {},
   "outputs": [],
   "source": [
    "class employee:\n",
    "    def __init__(self,name,id):\n",
    "        self.name = name\n",
    "        self.id = id\n",
    "\n",
    "    def showDetails(self):\n",
    "        print(f\"The name of the employee: {self.id} is {self.name}\")"
   ]
  },
  {
   "cell_type": "code",
   "execution_count": 3,
   "metadata": {},
   "outputs": [
    {
     "name": "stdout",
     "output_type": "stream",
     "text": [
      "The name of the employee: 420 is Rohan\n",
      "The name of the employee: 400 is Harry\n"
     ]
    }
   ],
   "source": [
    "e1 = employee(\"Rohan\",420)\n",
    "e1.showDetails()\n",
    "e2 = employee(\"Harry\",400)\n",
    "e2.showDetails()"
   ]
  },
  {
   "cell_type": "code",
   "execution_count": 4,
   "metadata": {},
   "outputs": [],
   "source": [
    "class programmer(employee):\n",
    "    def showLanguage(self):\n",
    "        print(\"The default language is python\")"
   ]
  },
  {
   "cell_type": "code",
   "execution_count": 7,
   "metadata": {},
   "outputs": [
    {
     "name": "stdout",
     "output_type": "stream",
     "text": [
      "The name of the employee: 400 is Akshat\n",
      "The default language is python\n"
     ]
    }
   ],
   "source": [
    "e3 = programmer(\"Akshat\",400)\n",
    "e3.showDetails()\n",
    "e3.showLanguage()"
   ]
  },
  {
   "cell_type": "code",
   "execution_count": null,
   "metadata": {},
   "outputs": [],
   "source": []
  }
 ],
 "metadata": {
  "kernelspec": {
   "display_name": "Python 3",
   "language": "python",
   "name": "python3"
  },
  "language_info": {
   "codemirror_mode": {
    "name": "ipython",
    "version": 3
   },
   "file_extension": ".py",
   "mimetype": "text/x-python",
   "name": "python",
   "nbconvert_exporter": "python",
   "pygments_lexer": "ipython3",
   "version": "3.11.5"
  }
 },
 "nbformat": 4,
 "nbformat_minor": 2
}
