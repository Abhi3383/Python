{
 "cells": [
  {
   "cell_type": "code",
   "execution_count": null,
   "metadata": {},
   "outputs": [],
   "source": [
    "'''\n",
    "hutil Module in Python\n",
    "Shutil is a Python module that provides a higher level interface for working with file and directories. \n",
    "The name \"shutil\" is short for shell utility. It provides a convenient and efficient way to automate tasks that are commonly performed on files and directories. \n",
    "\n",
    "Importing shutil\n",
    "The syntax for importing the shutil module is as follows:\n",
    "import shutil\n",
    "'''"
   ]
  },
  {
   "cell_type": "code",
   "execution_count": 1,
   "metadata": {},
   "outputs": [
    {
     "data": {
      "text/plain": [
       "'\\nFunctions\\nThe following are some of the most commonly used functions in the shutil module:\\n\\nshutil.copy(src, dst): \\nThis function copies the file located at src to a new location specified by dst. \\nIf the destination location already exists, the original file will be overwritten.\\n\\nshutil.copy2(src, dst): \\nThis function is similar to shutil.copy, but it also preserves more metadata about the original file, such as the timestamp.\\n\\nshutil.copytree(src, dst): \\nThis function recursively copies the directory located at src to a new location specified by dst. \\nIf the destination location already exists, the original directory will be merged with it.\\n\\nshutil.move(src, dst): \\nThis function moves the file located at src to a new location specified by dst. \\nThis function is equivalent to renaming a file in most cases.\\n\\nshutil.rmtree(path): \\nThis function recursively deletes the directory located at path, along with all of its contents. \\nThis function is similar to using the rm -rf command in a shell.\\n'"
      ]
     },
     "execution_count": 1,
     "metadata": {},
     "output_type": "execute_result"
    }
   ],
   "source": [
    "'''\n",
    "Functions\n",
    "The following are some of the most commonly used functions in the shutil module:\n",
    "\n",
    "shutil.copy(src, dst): \n",
    "This function copies the file located at src to a new location specified by dst. \n",
    "If the destination location already exists, the original file will be overwritten.\n",
    "\n",
    "shutil.copy2(src, dst): \n",
    "This function is similar to shutil.copy, but it also preserves more metadata about the original file, such as the timestamp.\n",
    "\n",
    "shutil.copytree(src, dst): \n",
    "This function recursively copies the directory located at src to a new location specified by dst. \n",
    "If the destination location already exists, the original directory will be merged with it.\n",
    "\n",
    "shutil.move(src, dst): \n",
    "This function moves the file located at src to a new location specified by dst. \n",
    "This function is equivalent to renaming a file in most cases.\n",
    "\n",
    "shutil.rmtree(path): \n",
    "This function recursively deletes the directory located at path, along with all of its contents. \n",
    "This function is similar to using the rm -rf command in a shell.\n",
    "'''"
   ]
  },
  {
   "cell_type": "code",
   "execution_count": null,
   "metadata": {},
   "outputs": [],
   "source": [
    "'''\n",
    "Examples\n",
    "Here are some examples of how you can use the shutil module in your Python code:\n",
    "'''"
   ]
  },
  {
   "cell_type": "code",
   "execution_count": 2,
   "metadata": {},
   "outputs": [
    {
     "ename": "FileNotFoundError",
     "evalue": "[Errno 2] No such file or directory: 'src.txt'",
     "output_type": "error",
     "traceback": [
      "\u001b[1;31m---------------------------------------------------------------------------\u001b[0m",
      "\u001b[1;31mFileNotFoundError\u001b[0m                         Traceback (most recent call last)",
      "Cell \u001b[1;32mIn[2], line 4\u001b[0m\n\u001b[0;32m      1\u001b[0m \u001b[38;5;28;01mimport\u001b[39;00m \u001b[38;5;21;01mshutil\u001b[39;00m\n\u001b[0;32m      3\u001b[0m \u001b[38;5;66;03m# Copying a file\u001b[39;00m\n\u001b[1;32m----> 4\u001b[0m \u001b[43mshutil\u001b[49m\u001b[38;5;241;43m.\u001b[39;49m\u001b[43mcopy\u001b[49m\u001b[43m(\u001b[49m\u001b[38;5;124;43m\"\u001b[39;49m\u001b[38;5;124;43msrc.txt\u001b[39;49m\u001b[38;5;124;43m\"\u001b[39;49m\u001b[43m,\u001b[49m\u001b[43m \u001b[49m\u001b[38;5;124;43m\"\u001b[39;49m\u001b[38;5;124;43mdst.txt\u001b[39;49m\u001b[38;5;124;43m\"\u001b[39;49m\u001b[43m)\u001b[49m\n\u001b[0;32m      6\u001b[0m \u001b[38;5;66;03m# Copying a directory\u001b[39;00m\n\u001b[0;32m      7\u001b[0m shutil\u001b[38;5;241m.\u001b[39mcopytree(\u001b[38;5;124m\"\u001b[39m\u001b[38;5;124msrc_dir\u001b[39m\u001b[38;5;124m\"\u001b[39m, \u001b[38;5;124m\"\u001b[39m\u001b[38;5;124mdst_dir\u001b[39m\u001b[38;5;124m\"\u001b[39m)\n",
      "File \u001b[1;32mc:\\Program Files\\Python311\\Lib\\shutil.py:419\u001b[0m, in \u001b[0;36mcopy\u001b[1;34m(src, dst, follow_symlinks)\u001b[0m\n\u001b[0;32m    417\u001b[0m \u001b[38;5;28;01mif\u001b[39;00m os\u001b[38;5;241m.\u001b[39mpath\u001b[38;5;241m.\u001b[39misdir(dst):\n\u001b[0;32m    418\u001b[0m     dst \u001b[38;5;241m=\u001b[39m os\u001b[38;5;241m.\u001b[39mpath\u001b[38;5;241m.\u001b[39mjoin(dst, os\u001b[38;5;241m.\u001b[39mpath\u001b[38;5;241m.\u001b[39mbasename(src))\n\u001b[1;32m--> 419\u001b[0m \u001b[43mcopyfile\u001b[49m\u001b[43m(\u001b[49m\u001b[43msrc\u001b[49m\u001b[43m,\u001b[49m\u001b[43m \u001b[49m\u001b[43mdst\u001b[49m\u001b[43m,\u001b[49m\u001b[43m \u001b[49m\u001b[43mfollow_symlinks\u001b[49m\u001b[38;5;241;43m=\u001b[39;49m\u001b[43mfollow_symlinks\u001b[49m\u001b[43m)\u001b[49m\n\u001b[0;32m    420\u001b[0m copymode(src, dst, follow_symlinks\u001b[38;5;241m=\u001b[39mfollow_symlinks)\n\u001b[0;32m    421\u001b[0m \u001b[38;5;28;01mreturn\u001b[39;00m dst\n",
      "File \u001b[1;32mc:\\Program Files\\Python311\\Lib\\shutil.py:256\u001b[0m, in \u001b[0;36mcopyfile\u001b[1;34m(src, dst, follow_symlinks)\u001b[0m\n\u001b[0;32m    254\u001b[0m     os\u001b[38;5;241m.\u001b[39msymlink(os\u001b[38;5;241m.\u001b[39mreadlink(src), dst)\n\u001b[0;32m    255\u001b[0m \u001b[38;5;28;01melse\u001b[39;00m:\n\u001b[1;32m--> 256\u001b[0m     \u001b[38;5;28;01mwith\u001b[39;00m \u001b[38;5;28;43mopen\u001b[39;49m\u001b[43m(\u001b[49m\u001b[43msrc\u001b[49m\u001b[43m,\u001b[49m\u001b[43m \u001b[49m\u001b[38;5;124;43m'\u001b[39;49m\u001b[38;5;124;43mrb\u001b[39;49m\u001b[38;5;124;43m'\u001b[39;49m\u001b[43m)\u001b[49m \u001b[38;5;28;01mas\u001b[39;00m fsrc:\n\u001b[0;32m    257\u001b[0m         \u001b[38;5;28;01mtry\u001b[39;00m:\n\u001b[0;32m    258\u001b[0m             \u001b[38;5;28;01mwith\u001b[39;00m \u001b[38;5;28mopen\u001b[39m(dst, \u001b[38;5;124m'\u001b[39m\u001b[38;5;124mwb\u001b[39m\u001b[38;5;124m'\u001b[39m) \u001b[38;5;28;01mas\u001b[39;00m fdst:\n\u001b[0;32m    259\u001b[0m                 \u001b[38;5;66;03m# macOS\u001b[39;00m\n",
      "\u001b[1;31mFileNotFoundError\u001b[0m: [Errno 2] No such file or directory: 'src.txt'"
     ]
    }
   ],
   "source": [
    "import shutil\n",
    "\n",
    "# Copying a file\n",
    "shutil.copy(\"src.txt\", \"dst.txt\")\n",
    "\n",
    "# Copying a directory\n",
    "shutil.copytree(\"src_dir\", \"dst_dir\")\n",
    "\n",
    "# Moving a file\n",
    "shutil.move(\"src.txt\", \"dst.txt\")\n",
    "\n",
    "# Deleting a directory\n",
    "shutil.rmtree(\"dir\")"
   ]
  },
  {
   "cell_type": "code",
   "execution_count": null,
   "metadata": {},
   "outputs": [],
   "source": [
    "import shutil\n",
    "import os\n",
    "\n",
    "shutil.copy(\"main.py\", \"main2.py\")\n",
    "shutil.copytree(\".tutorial\", \"mytutorial\")\n",
    "shutil.move(\".tutorial/file.file\", \"file.file\")\n",
    "shutil.rmtree(\"mytutorial\")\n",
    "os.remove(\"file.file\")"
   ]
  }
 ],
 "metadata": {
  "kernelspec": {
   "display_name": "Python 3",
   "language": "python",
   "name": "python3"
  },
  "language_info": {
   "codemirror_mode": {
    "name": "ipython",
    "version": 3
   },
   "file_extension": ".py",
   "mimetype": "text/x-python",
   "name": "python",
   "nbconvert_exporter": "python",
   "pygments_lexer": "ipython3",
   "version": "3.11.5"
  }
 },
 "nbformat": 4,
 "nbformat_minor": 2
}
