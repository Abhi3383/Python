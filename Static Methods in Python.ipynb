{
 "cells": [
  {
   "cell_type": "code",
   "execution_count": null,
   "metadata": {},
   "outputs": [],
   "source": [
    "'''\n",
    "Static methods in Python are methods that belong to a class rather than an instance of the class. \n",
    "They are defined using the @staticmethod decorator and do not have access to the instance of the class (i.e. self). \n",
    "They are called on the class itself, not on an instance of the class. \n",
    "Static methods are often used to create utility functions that don't need access to instance data.\n",
    "'''"
   ]
  },
  {
   "cell_type": "code",
   "execution_count": 2,
   "metadata": {},
   "outputs": [
    {
     "name": "stdout",
     "output_type": "stream",
     "text": [
      "5\n",
      "11\n",
      "9\n"
     ]
    }
   ],
   "source": [
    "class Math:\n",
    "  def __init__(self, num):\n",
    "    self.num = num\n",
    "\n",
    "  def addtonum(self, n):\n",
    "    self.num = self.num +n\n",
    "    \n",
    "  @staticmethod\n",
    "  def add(a, b):\n",
    "      return a + b\n",
    "\n",
    "# result = Math.add(1, 2)\n",
    "# print(result) # Output: 3\n",
    "a = Math(5)\n",
    "print(a.num)\n",
    "a.addtonum(6)\n",
    "print(a.num)\n",
    "\n",
    "print(Math.add(7, 2)) "
   ]
  },
  {
   "cell_type": "code",
   "execution_count": null,
   "metadata": {},
   "outputs": [],
   "source": [
    "'''\n",
    "In this example, the add method is a static method of the Math class. \n",
    "It takes two parameters a and b and returns their sum. \n",
    "The method can be called on the class itself, without the need to create an instance of the class.\n",
    "'''"
   ]
  }
 ],
 "metadata": {
  "kernelspec": {
   "display_name": "Python 3",
   "language": "python",
   "name": "python3"
  },
  "language_info": {
   "codemirror_mode": {
    "name": "ipython",
    "version": 3
   },
   "file_extension": ".py",
   "mimetype": "text/x-python",
   "name": "python",
   "nbconvert_exporter": "python",
   "pygments_lexer": "ipython3",
   "version": "3.11.5"
  }
 },
 "nbformat": 4,
 "nbformat_minor": 2
}
