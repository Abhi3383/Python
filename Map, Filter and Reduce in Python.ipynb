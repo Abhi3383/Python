{
 "cells": [
  {
   "cell_type": "code",
   "execution_count": 1,
   "metadata": {},
   "outputs": [
    {
     "name": "stdout",
     "output_type": "stream",
     "text": [
      "8\n"
     ]
    }
   ],
   "source": [
    "def cube(x):\n",
    "    return x*x*x\n",
    "\n",
    "print(cube(2))"
   ]
  },
  {
   "cell_type": "code",
   "execution_count": 3,
   "metadata": {},
   "outputs": [
    {
     "name": "stdout",
     "output_type": "stream",
     "text": [
      "[1, 8, 64, 216, 64, 27]\n"
     ]
    }
   ],
   "source": [
    "l = [1,2,4,6,4,3]\n",
    "newL = []\n",
    "for item in l:\n",
    "    newL.append(cube(item))\n",
    "print(newL)"
   ]
  },
  {
   "cell_type": "code",
   "execution_count": 5,
   "metadata": {},
   "outputs": [
    {
     "name": "stdout",
     "output_type": "stream",
     "text": [
      "<map object at 0x000001F90139A290>\n",
      "[1, 8, 64, 216, 64, 27]\n"
     ]
    }
   ],
   "source": [
    "# map\n",
    "# map(function,iterable)\n",
    "# applies a function to each element in the sequence and \n",
    "# returns a new sequence containing the tranformed elements\n",
    "# The iterable argument can be list, tuple or any other iterable object\n",
    "newL = map(cube, l)\n",
    "print(newL)\n",
    "newL = list(map(cube, l))\n",
    "print(newL)"
   ]
  },
  {
   "cell_type": "code",
   "execution_count": 7,
   "metadata": {},
   "outputs": [
    {
     "name": "stdout",
     "output_type": "stream",
     "text": [
      "<map object at 0x000001F90139B6D0>\n",
      "[1, 8, 64, 216, 64, 27]\n"
     ]
    }
   ],
   "source": [
    "newL = map(lambda x: x*x*x, l)\n",
    "print(newL)\n",
    "newL = list(map(lambda x: x*x*x, l))\n",
    "print(newL)"
   ]
  },
  {
   "cell_type": "code",
   "execution_count": 10,
   "metadata": {},
   "outputs": [],
   "source": [
    "def filter_func(a):\n",
    "    return a>4"
   ]
  },
  {
   "cell_type": "code",
   "execution_count": 14,
   "metadata": {},
   "outputs": [
    {
     "name": "stdout",
     "output_type": "stream",
     "text": [
      "[1, 2, 4, 6, 4, 3, 8, 7, 9, 8]\n",
      "<filter object at 0x000001F90139BC70>\n",
      "[6, 8, 7, 9, 8]\n"
     ]
    }
   ],
   "source": [
    "# filter\n",
    "# filter(predicate, iterable)\n",
    "# filters a sequence of elements based on given predicate and \n",
    "# returns a new squence containing only the elements that \n",
    "# meets the predicate\n",
    "# A predicate argument is a function that returns a boolean value\n",
    "# and is applied for each element in the iterable argument.\n",
    "# The iterable argument can be list, tuple or any other iterable object\n",
    "l = [1,2,4,6,4,3,8,7,9,8]\n",
    "print(l)\n",
    "newF = filter(filter_func,l)\n",
    "print(newF)\n",
    "newF = list(filter(filter_func,l))\n",
    "print(newF)"
   ]
  },
  {
   "cell_type": "code",
   "execution_count": 15,
   "metadata": {},
   "outputs": [
    {
     "name": "stdout",
     "output_type": "stream",
     "text": [
      "[1, 2, 4, 6, 4, 3, 8, 7, 9, 8]\n",
      "<filter object at 0x000001F90139AB30>\n",
      "[6, 8, 7, 9, 8]\n"
     ]
    }
   ],
   "source": [
    "l = [1,2,4,6,4,3,8,7,9,8]\n",
    "print(l)\n",
    "newF = filter(lambda a:a>4,l)\n",
    "print(newF)\n",
    "newF = list(filter(lambda a:a>4,l))\n",
    "print(newF)"
   ]
  },
  {
   "cell_type": "code",
   "execution_count": 17,
   "metadata": {},
   "outputs": [
    {
     "name": "stdout",
     "output_type": "stream",
     "text": [
      "15\n"
     ]
    }
   ],
   "source": [
    "# Reduce\n",
    "# The reduce function is a higher-order function that applies a function to a single value. \n",
    "# The iterable argument is a sequence of elements, such as list or tuple.\n",
    "# Note: It is a part of the functools module in python so it needs to be imported and \n",
    "# has the following syntax:\n",
    "# reduce(function, iterable)\n",
    "# It takes two arguments and returns a single value.\n",
    "# It applied the function to the 1st 2 elements in the iterable and then applied the function\n",
    "# to the result and the next element and so on.\n",
    "\n",
    "from functools import reduce\n",
    "\n",
    "numbers = [1,2,3,4,5]\n",
    "sum = reduce(lambda x,y:x+y,numbers)\n",
    "print(sum)"
   ]
  },
  {
   "cell_type": "code",
   "execution_count": null,
   "metadata": {},
   "outputs": [],
   "source": []
  }
 ],
 "metadata": {
  "kernelspec": {
   "display_name": "Python 3",
   "language": "python",
   "name": "python3"
  },
  "language_info": {
   "codemirror_mode": {
    "name": "ipython",
    "version": 3
   },
   "file_extension": ".py",
   "mimetype": "text/x-python",
   "name": "python",
   "nbconvert_exporter": "python",
   "pygments_lexer": "ipython3",
   "version": "3.11.5"
  }
 },
 "nbformat": 4,
 "nbformat_minor": 2
}
