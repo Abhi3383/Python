{
 "cells": [
  {
   "cell_type": "code",
   "execution_count": 13,
   "metadata": {},
   "outputs": [
    {
     "name": "stdout",
     "output_type": "stream",
     "text": [
      "<class '_io.TextIOWrapper'>\n",
      "13\n",
      "How're you\n"
     ]
    }
   ],
   "source": [
    "with open('myfile1.txt','r') as f:\n",
    "    print(type(f))\n",
    "    # Move to the 10 byte of the files\n",
    "    f.seek(13)\n",
    "    # return the current position within the file, in bytes\n",
    "    # basically return the number of bytes of seek \n",
    "    print(f.tell())\n",
    "    # Read the next 10 bytes\n",
    "    data = f.read(10)\n",
    "    print(data)\n"
   ]
  },
  {
   "cell_type": "code",
   "execution_count": 14,
   "metadata": {},
   "outputs": [
    {
     "name": "stdout",
     "output_type": "stream",
     "text": [
      "Hello\n"
     ]
    }
   ],
   "source": [
    "with open('myfile4.txt','w') as f:\n",
    "    f.write('Hello world')\n",
    "    # using truncate we can specify the size of characters\n",
    "    # we want in the file\n",
    "    f.truncate(5)\n",
    "\n",
    "with open('myfile4.txt','r') as f:\n",
    "    print(f.read())\n",
    "\n",
    "\n"
   ]
  },
  {
   "cell_type": "code",
   "execution_count": null,
   "metadata": {},
   "outputs": [],
   "source": []
  }
 ],
 "metadata": {
  "kernelspec": {
   "display_name": "Python 3",
   "language": "python",
   "name": "python3"
  },
  "language_info": {
   "codemirror_mode": {
    "name": "ipython",
    "version": 3
   },
   "file_extension": ".py",
   "mimetype": "text/x-python",
   "name": "python",
   "nbconvert_exporter": "python",
   "pygments_lexer": "ipython3",
   "version": "3.11.5"
  }
 },
 "nbformat": 4,
 "nbformat_minor": 2
}
