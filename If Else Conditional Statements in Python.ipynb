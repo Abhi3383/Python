{
 "cells": [
  {
   "cell_type": "code",
   "execution_count": 6,
   "metadata": {},
   "outputs": [
    {
     "name": "stdout",
     "output_type": "stream",
     "text": [
      "Your age is:  20\n",
      "True\n",
      "True\n",
      "False\n",
      "False\n",
      "False\n",
      "True\n",
      "You can drive\n"
     ]
    }
   ],
   "source": [
    "a = int(input(\"Enter your age: \"))\n",
    "print(\"Your age is: \",a)\n",
    "print(a>18)\n",
    "print(a>=18)\n",
    "print(a<18)\n",
    "print(a<=18)\n",
    "print(a==18)\n",
    "print(a!=18)\n",
    "if(a>=18):\n",
    "    print(\"You can drive\")\n",
    "else:\n",
    "    print(\"You cannot drive\")"
   ]
  },
  {
   "cell_type": "code",
   "execution_count": 7,
   "metadata": {},
   "outputs": [
    {
     "name": "stdout",
     "output_type": "stream",
     "text": [
      "Alexa, do not add Apples to the cart.\n"
     ]
    }
   ],
   "source": [
    "applePrice = 210\n",
    "budget = 200\n",
    "if(applePrice <= budget):\n",
    "    print(\"Alexa, add 1 kg Apples to the cart.\")\n",
    "else:\n",
    "    print(\"Alexa, do not add Apples to the cart.\")"
   ]
  },
  {
   "cell_type": "code",
   "execution_count": 13,
   "metadata": {},
   "outputs": [
    {
     "name": "stdout",
     "output_type": "stream",
     "text": [
      "Number is +ve.\n"
     ]
    }
   ],
   "source": [
    "num = int(input(\"Enter the value of num: \"))\n",
    "if(num<0):\n",
    "    print(\"Number is -ve.\")\n",
    "elif(num==0):\n",
    "    print(\"Number is 0.\")\n",
    "elif (num > 999):\n",
    "    print(\"Number is 4 digit and +ve.\")\n",
    "else:\n",
    "    print(\"Number is +ve.\")"
   ]
  },
  {
   "cell_type": "code",
   "execution_count": 14,
   "metadata": {},
   "outputs": [
    {
     "name": "stdout",
     "output_type": "stream",
     "text": [
      "Number is b/w 10-20\n"
     ]
    }
   ],
   "source": [
    "num =18\n",
    "if (num<0):\n",
    "    print(\"Number is negative\")\n",
    "elif(num >0):\n",
    "    if(num <=10):\n",
    "        print(\"Number is b/w 1-10\")\n",
    "    elif (num>10 and num<=20):\n",
    "        print(\"Number is b/w 10-20\")\n",
    "    else:\n",
    "        print(\"Number is >20\")\n",
    "else:\n",
    "    print(\"Number is 0.\")"
   ]
  },
  {
   "cell_type": "code",
   "execution_count": null,
   "metadata": {},
   "outputs": [],
   "source": []
  }
 ],
 "metadata": {
  "kernelspec": {
   "display_name": "Python 3",
   "language": "python",
   "name": "python3"
  },
  "language_info": {
   "codemirror_mode": {
    "name": "ipython",
    "version": 3
   },
   "file_extension": ".py",
   "mimetype": "text/x-python",
   "name": "python",
   "nbconvert_exporter": "python",
   "pygments_lexer": "ipython3",
   "version": "3.11.5"
  }
 },
 "nbformat": 4,
 "nbformat_minor": 2
}
