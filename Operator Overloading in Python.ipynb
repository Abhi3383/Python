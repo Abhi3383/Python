{
 "cells": [
  {
   "cell_type": "code",
   "execution_count": null,
   "metadata": {},
   "outputs": [],
   "source": [
    "'''\n",
    "Operator Overloading in Python: An Introduction\n",
    "Operator Overloading is a feature in Python that allows developers to redefine the behavior of mathematical and comparison operators for custom data types. \n",
    "This means that you can use the standard mathematical operators (+, -, *, /, etc.) and comparison operators (>, <, ==, etc.) in your own classes, just as you would for built-in data types like int, float, and str.\n",
    "'''"
   ]
  },
  {
   "cell_type": "code",
   "execution_count": null,
   "metadata": {},
   "outputs": [],
   "source": [
    "'''\n",
    "Why do we need operator overloading?\n",
    "Operator overloading allows you to create more readable and intuitive code. For instance, consider a custom class that represents a point in 2D space. \n",
    "You could define a method called 'add' to add two points together, but using the + operator makes the code more concise and readable:\n",
    "'''"
   ]
  },
  {
   "cell_type": "code",
   "execution_count": 2,
   "metadata": {},
   "outputs": [
    {
     "data": {
      "text/plain": [
       "'\\nHow to overload an operator in Python?\\nYou can overload an operator in Python by defining special methods in your class. \\nThese methods are identified by their names, which start and end with double underscores (__). \\nHere are some of the most commonly overloaded operators and their corresponding special methods:\\n+ : __add__\\n- : __sub__\\n* : __mul__\\n/ : __truediv__\\n< : __lt__\\n> : __gt__\\n== : __eq__\\nFor example, if you want to overload the + operator to add two instances of a custom class, you would define the add method:\\n'"
      ]
     },
     "execution_count": 2,
     "metadata": {},
     "output_type": "execute_result"
    }
   ],
   "source": [
    "'''\n",
    "How to overload an operator in Python?\n",
    "You can overload an operator in Python by defining special methods in your class. \n",
    "These methods are identified by their names, which start and end with double underscores (__). \n",
    "Here are some of the most commonly overloaded operators and their corresponding special methods:\n",
    "+ : __add__\n",
    "- : __sub__\n",
    "* : __mul__\n",
    "/ : __truediv__\n",
    "< : __lt__\n",
    "> : __gt__\n",
    "== : __eq__\n",
    "For example, if you want to overload the + operator to add two instances of a custom class, you would define the add method:\n",
    "'''"
   ]
  },
  {
   "cell_type": "code",
   "execution_count": 3,
   "metadata": {},
   "outputs": [],
   "source": [
    "class Point:\n",
    "    def __init__(self, x, y):\n",
    "        self.x = x\n",
    "        self.y = y\n",
    "\n",
    "    def __add__(self, other):\n",
    "        return Point(self.x + other.x, self.y + other.y)"
   ]
  },
  {
   "cell_type": "code",
   "execution_count": 4,
   "metadata": {},
   "outputs": [
    {
     "name": "stdout",
     "output_type": "stream",
     "text": [
      "4 6\n"
     ]
    }
   ],
   "source": [
    "p1 = Point(1, 2)\n",
    "p2 = Point(3, 4)\n",
    "p3 = p1 + p2\n",
    "print(p3.x, p3.y) # prints 4, 6"
   ]
  },
  {
   "cell_type": "code",
   "execution_count": 5,
   "metadata": {},
   "outputs": [
    {
     "name": "stdout",
     "output_type": "stream",
     "text": [
      "3i + 5j + 6k\n",
      "1i + 2j + 9k\n",
      "4i + 7j + 15k\n",
      "<class '__main__.Vector'>\n"
     ]
    }
   ],
   "source": [
    "class Vector:\n",
    "  def __init__(self, i, j, k):\n",
    "    self.i = i\n",
    "    self.j = j\n",
    "    self.k = k\n",
    "\n",
    "  def __str__(self):\n",
    "    return f\"{self.i}i + {self.j}j + {self.k}k\"\n",
    "\n",
    "  def __add__(self, x):\n",
    "    return Vector(self.i + x.i,  self.j+x.j, self.k+x.k) \n",
    "v1 = Vector(3, 5, 6)\n",
    "print(v1)\n",
    "\n",
    "v2 = Vector(1, 2, 9)\n",
    "print(v2)\n",
    "\n",
    "print(v1 + v2)\n",
    "print(type(v1 + v2))"
   ]
  },
  {
   "cell_type": "code",
   "execution_count": null,
   "metadata": {},
   "outputs": [],
   "source": []
  }
 ],
 "metadata": {
  "kernelspec": {
   "display_name": "Python 3",
   "language": "python",
   "name": "python3"
  },
  "language_info": {
   "codemirror_mode": {
    "name": "ipython",
    "version": 3
   },
   "file_extension": ".py",
   "mimetype": "text/x-python",
   "name": "python",
   "nbconvert_exporter": "python",
   "pygments_lexer": "ipython3",
   "version": "3.11.5"
  }
 },
 "nbformat": 4,
 "nbformat_minor": 2
}
