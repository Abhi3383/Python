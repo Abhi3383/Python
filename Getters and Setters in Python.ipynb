{
 "cells": [
  {
   "cell_type": "code",
   "execution_count": 1,
   "metadata": {},
   "outputs": [],
   "source": [
    "class myClass:\n",
    "    def __init__(self,value):\n",
    "        self._value= value\n",
    "    def show(self):\n",
    "        print(f\"Value is {self._value}\")\n",
    "    @property\n",
    "    def value(self):\n",
    "        return self._value"
   ]
  },
  {
   "cell_type": "code",
   "execution_count": 2,
   "metadata": {},
   "outputs": [
    {
     "name": "stdout",
     "output_type": "stream",
     "text": [
      "Value is 10\n"
     ]
    }
   ],
   "source": [
    "obj = myClass(10)\n",
    "obj.show()"
   ]
  },
  {
   "cell_type": "code",
   "execution_count": 3,
   "metadata": {},
   "outputs": [],
   "source": [
    "class MyClass:\n",
    "  def __init__(self, value):\n",
    "      self._value = value\n",
    "    \n",
    "  def show(self):\n",
    "    print(f\"Value is {self._value}\")\n",
    "    \n",
    "  # using @property it will become a getter \n",
    "  @property\n",
    "  def ten_value(self):\n",
    "      return 10* self._value\n",
    "    \n",
    "  # using @ten_value.setter it will become a setter \n",
    "  @ten_value.setter\n",
    "  def ten_value(self, new_value):\n",
    "      self._value = new_value/10\n"
   ]
  },
  {
   "cell_type": "code",
   "execution_count": 5,
   "metadata": {},
   "outputs": [
    {
     "name": "stdout",
     "output_type": "stream",
     "text": [
      "67.0\n",
      "Value is 6.7\n"
     ]
    }
   ],
   "source": [
    "obj = MyClass(10)\n",
    "obj.ten_value = 67\n",
    "print(obj.ten_value)\n",
    "obj.show()"
   ]
  },
  {
   "cell_type": "code",
   "execution_count": null,
   "metadata": {},
   "outputs": [],
   "source": []
  }
 ],
 "metadata": {
  "kernelspec": {
   "display_name": "Python 3",
   "language": "python",
   "name": "python3"
  },
  "language_info": {
   "codemirror_mode": {
    "name": "ipython",
    "version": 3
   },
   "file_extension": ".py",
   "mimetype": "text/x-python",
   "name": "python",
   "nbconvert_exporter": "python",
   "pygments_lexer": "ipython3",
   "version": "3.11.5"
  }
 },
 "nbformat": 4,
 "nbformat_minor": 2
}
