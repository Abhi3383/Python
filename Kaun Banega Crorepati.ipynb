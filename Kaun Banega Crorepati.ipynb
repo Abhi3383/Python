{
 "cells": [
  {
   "cell_type": "code",
   "execution_count": 9,
   "metadata": {},
   "outputs": [
    {
     "name": "stdout",
     "output_type": "stream",
     "text": [
      "\n",
      "========================================\n",
      "Question for Rs. 1000\n",
      "Which language is known as the mother of programming languages?\n",
      "----------------------------------------\n",
      "a. C          b. Python \n",
      "c. Assembly          d. Java \n",
      "========================================\n",
      "\n",
      "Correct answer! You have won Rs. 1000\n",
      "\n",
      "========================================\n",
      "Question for Rs. 2000\n",
      "Who is known as the father of computers?\n",
      "----------------------------------------\n",
      "a. Albert Einstein          b. Alan Turing \n",
      "c. Charles Babbage          d. Isaac Newton \n",
      "========================================\n",
      "\n",
      "Wrong answer!\n",
      "\n",
      "========================================\n",
      "Your take-home money is Rs. 0\n",
      "========================================\n"
     ]
    }
   ],
   "source": [
    "questions = [\n",
    "    [\"Which language is known as the mother of programming languages?\", \"C\", \"Python\", \"Assembly\", \"Java\", \"None\", 1],\n",
    "    [\"Who is known as the father of computers?\", \"Albert Einstein\", \"Alan Turing\", \"Charles Babbage\", \"Isaac Newton\", \"None\", 3],\n",
    "    [\"What does HTML stand for?\", \"Hyper Text Makeup Language\", \"Hyper Text Markup Language\", \"Hyperlink and Text Markup Language\", \"Hyperlink Markup Language\", \"None\", 2],\n",
    "    [\"Which company developed the Java programming language?\", \"Microsoft\", \"Oracle\", \"Sun Microsystems\", \"IBM\", \"None\", 3],\n",
    "    [\"What is the full form of HTTP?\", \"Hypertext Transfer Protocol\", \"Hyper Transfer Protocol\", \"Hyper Terminal Transfer Protocol\", \"High Transfer Protocol\", \"None\", 1],\n",
    "    [\"Which programming language is primarily used for AI development?\", \"Python\", \"C\", \"JavaScript\", \"Ruby\", \"None\", 1],\n",
    "    [\"Which database uses SQL for managing data?\", \"MySQL\", \"MongoDB\", \"Cassandra\", \"Redis\", \"None\", 1],\n",
    "    [\"What is the extension of Python files?\", \".py\", \".java\", \".html\", \".cpp\", \"None\", 1],\n",
    "    [\"Who developed the Linux operating system?\", \"Bill Gates\", \"Mark Zuckerberg\", \"Linus Torvalds\", \"Steve Jobs\", \"None\", 3],\n",
    "    [\"Which of the following is a NoSQL database?\", \"MySQL\", \"MongoDB\", \"PostgreSQL\", \"SQLite\", \"None\", 2],\n",
    "]\n",
    "\n",
    "levels = [1000, 2000, 3000, 5000, 10000, 20000, 40000, 80000, 160000, 320000]\n",
    "money = 0\n",
    "\n",
    "for i in range(len(levels)):\n",
    "    question = questions[i]\n",
    "    print(f\"\\n{'='*40}\")\n",
    "    print(f\"Question for Rs. {levels[i]}\")\n",
    "    print(f\"{question[0]}\")\n",
    "    print(f\"{'-'*40}\")\n",
    "    print(f\"a. {question[1]}          b. {question[2]} \")\n",
    "    print(f\"c. {question[3]}          d. {question[4]} \")\n",
    "    print(f\"{'='*40}\")\n",
    "    reply = int(input(\"Enter your answer (1-4) or 0 to quit:\\n\"))\n",
    "    \n",
    "    if reply == 0:\n",
    "        money = levels[i - 1] if i > 0 else 0\n",
    "        break\n",
    "    \n",
    "    if reply == question[-1]:\n",
    "        print(f\"\\nCorrect answer! You have won Rs. {levels[i]}\")\n",
    "        if i == 4:\n",
    "            money = 10000\n",
    "        elif i == 9:\n",
    "            money = 320000\n",
    "        elif i == 14:\n",
    "            money = 10000000\n",
    "    else:\n",
    "        print(\"\\nWrong answer!\")\n",
    "        break\n",
    "\n",
    "print(f\"\\n{'='*40}\")\n",
    "print(f\"Your take-home money is Rs. {money}\")\n",
    "print(f\"{'='*40}\")\n"
   ]
  },
  {
   "cell_type": "code",
   "execution_count": null,
   "metadata": {},
   "outputs": [],
   "source": []
  }
 ],
 "metadata": {
  "kernelspec": {
   "display_name": "Python 3",
   "language": "python",
   "name": "python3"
  },
  "language_info": {
   "codemirror_mode": {
    "name": "ipython",
    "version": 3
   },
   "file_extension": ".py",
   "mimetype": "text/x-python",
   "name": "python",
   "nbconvert_exporter": "python",
   "pygments_lexer": "ipython3",
   "version": "3.11.5"
  }
 },
 "nbformat": 4,
 "nbformat_minor": 2
}
