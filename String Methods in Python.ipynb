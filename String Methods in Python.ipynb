{
 "cells": [
  {
   "cell_type": "code",
   "execution_count": 1,
   "metadata": {},
   "outputs": [
    {
     "name": "stdout",
     "output_type": "stream",
     "text": [
      "8\n"
     ]
    }
   ],
   "source": [
    "# Strings are immutable\n",
    "\n",
    "a=\"Abhishek\"\n",
    "print(len(a))"
   ]
  },
  {
   "cell_type": "code",
   "execution_count": 3,
   "metadata": {},
   "outputs": [
    {
     "name": "stdout",
     "output_type": "stream",
     "text": [
      "ABHISHEK\n",
      "abhishek\n"
     ]
    }
   ],
   "source": [
    "a=\"Abhishek\"\n",
    "print(a.upper())\n",
    "print(a.lower())"
   ]
  },
  {
   "cell_type": "code",
   "execution_count": 8,
   "metadata": {},
   "outputs": [
    {
     "name": "stdout",
     "output_type": "stream",
     "text": [
      "True\n"
     ]
    }
   ],
   "source": [
    "a=\"Abhishek123\"\n",
    "print(a.isalnum())"
   ]
  },
  {
   "cell_type": "code",
   "execution_count": 21,
   "metadata": {},
   "outputs": [
    {
     "name": "stdout",
     "output_type": "stream",
     "text": [
      "Abhishek\n"
     ]
    }
   ],
   "source": [
    "a=\"Abhishek!!!!!!!!!!!!!!!\"\n",
    "print(a.rstrip(\"!\"))"
   ]
  },
  {
   "cell_type": "code",
   "execution_count": 15,
   "metadata": {},
   "outputs": [
    {
     "name": "stdout",
     "output_type": "stream",
     "text": [
      "!!!!Abhishek\n"
     ]
    }
   ],
   "source": [
    "a=\"!!!!Abhishek!!!!!!!!!!!!!!!\"\n",
    "print(a.rstrip(\"!\"))"
   ]
  },
  {
   "cell_type": "code",
   "execution_count": 19,
   "metadata": {},
   "outputs": [
    {
     "name": "stdout",
     "output_type": "stream",
     "text": [
      "!!!!!Abhishek\n",
      "Abhishek!!!!!!!!!!!!!!!\n"
     ]
    }
   ],
   "source": [
    "a=\"!!!!!Abhishek!!!!!!!!!!!!!!!\"\n",
    "print(a.rstrip(\"!\"))\n",
    "print(a.lstrip(\"!\"))"
   ]
  },
  {
   "cell_type": "code",
   "execution_count": 27,
   "metadata": {},
   "outputs": [
    {
     "name": "stdout",
     "output_type": "stream",
     "text": [
      "Abhishek\n"
     ]
    }
   ],
   "source": [
    "a=\"!!!!!!!!Abhishek!!!!!!!!!!!!!!!\"\n",
    "print(a.strip(\"!\"))"
   ]
  },
  {
   "cell_type": "code",
   "execution_count": 14,
   "metadata": {},
   "outputs": [
    {
     "data": {
      "text/plain": [
       "'Abhishek->Gupta'"
      ]
     },
     "execution_count": 14,
     "metadata": {},
     "output_type": "execute_result"
    }
   ],
   "source": [
    "a=[\"Abhishek\",\"Gupta\"]\n",
    "'->'.join(a)"
   ]
  },
  {
   "cell_type": "code",
   "execution_count": 31,
   "metadata": {},
   "outputs": [
    {
     "name": "stdout",
     "output_type": "stream",
     "text": [
      "Abhishek this side, i am just learning python\n"
     ]
    }
   ],
   "source": [
    "a=\"abhishek this side, I am just learning Python\"\n",
    "print(a.capitalize())"
   ]
  },
  {
   "cell_type": "code",
   "execution_count": 36,
   "metadata": {},
   "outputs": [
    {
     "name": "stdout",
     "output_type": "stream",
     "text": [
      "                           abhishek this side, I am just learning Python                            \n",
      "100\n",
      "45\n"
     ]
    }
   ],
   "source": [
    "a=\"abhishek this side, I am just learning Python\"\n",
    "print(a.center(100))\n",
    "print(len(a.center(100)))\n",
    "#  (len(45 + 55(spaces)))       \n",
    "print(len(a))"
   ]
  },
  {
   "cell_type": "code",
   "execution_count": 40,
   "metadata": {},
   "outputs": [
    {
     "name": "stdout",
     "output_type": "stream",
     "text": [
      "2\n"
     ]
    }
   ],
   "source": [
    "a=\"abhishek this side, Abhishek is just learning Python also abhishek is a DevOps engineer\"\n",
    "print(a.count(\"abhishek\"))"
   ]
  },
  {
   "cell_type": "code",
   "execution_count": 42,
   "metadata": {},
   "outputs": [
    {
     "name": "stdout",
     "output_type": "stream",
     "text": [
      "True\n",
      "True\n"
     ]
    }
   ],
   "source": [
    "a=\"abhishek this side, Abhishek is just learning Python also abhishek is a DevOps engineer\"\n",
    "print(a.startswith(\"abhishek\"))\n",
    "print(a.endswith(\"engineer\"))"
   ]
  },
  {
   "cell_type": "code",
   "execution_count": 44,
   "metadata": {},
   "outputs": [
    {
     "name": "stdout",
     "output_type": "stream",
     "text": [
      "True\n"
     ]
    }
   ],
   "source": [
    "a=\"abhishek this side\"\n",
    "print(a.endswith(\"this\",9,13))"
   ]
  },
  {
   "cell_type": "code",
   "execution_count": 48,
   "metadata": {},
   "outputs": [
    {
     "name": "stdout",
     "output_type": "stream",
     "text": [
      "9\n",
      "79\n",
      "-1\n"
     ]
    }
   ],
   "source": [
    "a=\"abhishek this side, Abhishek is just learning Python also abhishek is a DevOps engineer\"\n",
    "print(a.find(\"this\"))\n",
    "print(a.find(\"eng\"))\n",
    "print(a.find(\"world\"))"
   ]
  },
  {
   "cell_type": "code",
   "execution_count": 50,
   "metadata": {},
   "outputs": [
    {
     "name": "stdout",
     "output_type": "stream",
     "text": [
      "46\n"
     ]
    },
    {
     "ename": "ValueError",
     "evalue": "substring not found",
     "output_type": "error",
     "traceback": [
      "\u001b[1;31m---------------------------------------------------------------------------\u001b[0m",
      "\u001b[1;31mValueError\u001b[0m                                Traceback (most recent call last)",
      "Cell \u001b[1;32mIn[50], line 3\u001b[0m\n\u001b[0;32m      1\u001b[0m a\u001b[38;5;241m=\u001b[39m\u001b[38;5;124m\"\u001b[39m\u001b[38;5;124mabhishek this side, Abhishek is just learning Python also abhishek is a DevOps engineer\u001b[39m\u001b[38;5;124m\"\u001b[39m\n\u001b[0;32m      2\u001b[0m \u001b[38;5;28mprint\u001b[39m(a\u001b[38;5;241m.\u001b[39mindex(\u001b[38;5;124m\"\u001b[39m\u001b[38;5;124mPython\u001b[39m\u001b[38;5;124m\"\u001b[39m))\n\u001b[1;32m----> 3\u001b[0m \u001b[38;5;28mprint\u001b[39m(\u001b[43ma\u001b[49m\u001b[38;5;241;43m.\u001b[39;49m\u001b[43mindex\u001b[49m\u001b[43m(\u001b[49m\u001b[38;5;124;43m\"\u001b[39;49m\u001b[38;5;124;43mworld\u001b[39;49m\u001b[38;5;124;43m\"\u001b[39;49m\u001b[43m)\u001b[49m)\n",
      "\u001b[1;31mValueError\u001b[0m: substring not found"
     ]
    }
   ],
   "source": [
    "a=\"abhishek this side, Abhishek is just learning Python also abhishek is a DevOps engineer\"\n",
    "print(a.index(\"Python\"))\n",
    "print(a.index(\"world\"))"
   ]
  },
  {
   "cell_type": "code",
   "execution_count": 55,
   "metadata": {},
   "outputs": [
    {
     "name": "stdout",
     "output_type": "stream",
     "text": [
      "False\n",
      "True\n",
      "True\n",
      "False\n",
      "True\n",
      "True\n"
     ]
    }
   ],
   "source": [
    "x=\"World\"\n",
    "print(x.islower())\n",
    "print(x.isalpha())\n",
    "x=\"world123\"\n",
    "print(x.islower())\n",
    "print(x.isalpha())\n",
    "print(x.isalnum())\n",
    "x=\"123\"\n",
    "print(x.isnumeric())\n",
    "\n"
   ]
  },
  {
   "cell_type": "code",
   "execution_count": 61,
   "metadata": {},
   "outputs": [
    {
     "name": "stdout",
     "output_type": "stream",
     "text": [
      "abhishek this side, \n",
      "Abhishek is just learning Python.\n",
      "Also, abhishek is a DevOps engineer\n",
      "False\n",
      "abhishek this side, \n",
      "Abhishek is just learning Python.\n",
      "Also, abhishek is a DevOps engineer\n",
      "False\n",
      "abhishek this side, Abhishek is just learning Python. Also, abhishek is a DevOps engineer\n",
      "True\n"
     ]
    }
   ],
   "source": [
    "a='''abhishek this side, \n",
    "Abhishek is just learning Python.\\nAlso, abhishek is a DevOps engineer'''\n",
    "print(a)\n",
    "print(a.isprintable())\n",
    "a='''abhishek this side, \n",
    "Abhishek is just learning Python.\n",
    "Also, abhishek is a DevOps engineer'''\n",
    "print(a)\n",
    "print(a.isprintable())\n",
    "a=\"abhishek this side, Abhishek is just learning Python. Also, abhishek is a DevOps engineer\"\n",
    "print(a)\n",
    "print(a.isprintable())"
   ]
  },
  {
   "cell_type": "code",
   "execution_count": 66,
   "metadata": {},
   "outputs": [
    {
     "name": "stdout",
     "output_type": "stream",
     "text": [
      "True\n"
     ]
    }
   ],
   "source": [
    "a=\" \"\n",
    "print(a.isspace())"
   ]
  },
  {
   "cell_type": "code",
   "execution_count": 74,
   "metadata": {},
   "outputs": [
    {
     "name": "stdout",
     "output_type": "stream",
     "text": [
      "Abhishek this side\n",
      "False\n",
      "Abhishek This Side\n",
      "True\n"
     ]
    }
   ],
   "source": [
    "a=\"Abhishek this side\"\n",
    "print(a)\n",
    "print(a.istitle())\n",
    "a=\"Abhishek This Side\"\n",
    "print(a)\n",
    "print(a.istitle())"
   ]
  },
  {
   "cell_type": "code",
   "execution_count": 75,
   "metadata": {},
   "outputs": [
    {
     "name": "stdout",
     "output_type": "stream",
     "text": [
      "Abhishek this side\n",
      "aBHISHEK THIS SIDE\n"
     ]
    }
   ],
   "source": [
    "a=\"Abhishek this side\"\n",
    "print(a)\n",
    "print(a.swapcase())"
   ]
  },
  {
   "cell_type": "code",
   "execution_count": 76,
   "metadata": {},
   "outputs": [
    {
     "name": "stdout",
     "output_type": "stream",
     "text": [
      "Abhishek this side\n",
      "Abhishek This Side\n"
     ]
    }
   ],
   "source": [
    "a=\"Abhishek this side\"\n",
    "print(a)\n",
    "print(a.title())"
   ]
  },
  {
   "cell_type": "code",
   "execution_count": null,
   "metadata": {},
   "outputs": [],
   "source": []
  }
 ],
 "metadata": {
  "kernelspec": {
   "display_name": "Python 3",
   "language": "python",
   "name": "python3"
  },
  "language_info": {
   "codemirror_mode": {
    "name": "ipython",
    "version": 3
   },
   "file_extension": ".py",
   "mimetype": "text/x-python",
   "name": "python",
   "nbconvert_exporter": "python",
   "pygments_lexer": "ipython3",
   "version": "3.11.5"
  }
 },
 "nbformat": 4,
 "nbformat_minor": 2
}
