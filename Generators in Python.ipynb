{
 "cells": [
  {
   "cell_type": "code",
   "execution_count": 1,
   "metadata": {},
   "outputs": [
    {
     "data": {
      "text/plain": [
       "\"\\nGenerators in Python\\nGenerators in Python are special type of functions that allow you to create an iterable sequence of values. \\nA generator function returns a generator object, which can be used to generate the values one-by-one as you iterate over it. \\nGenerators are a powerful tool for working with large or complex data sets, as they allow you to generate the values on-the-fly, rather than having to create and store the entire sequence in memory.\\n\\nCreating a Generator\\nIn Python, you can create a generator by using the yield statement in a function. \\nThe yield statement returns a value from the generator and suspends the execution of the function until the next value is requested. \\nHere's an example:\\n\""
      ]
     },
     "execution_count": 1,
     "metadata": {},
     "output_type": "execute_result"
    }
   ],
   "source": [
    "'''\n",
    "Generators in Python\n",
    "Generators in Python are special type of functions that allow you to create an iterable sequence of values. \n",
    "A generator function returns a generator object, which can be used to generate the values one-by-one as you iterate over it. \n",
    "Generators are a powerful tool for working with large or complex data sets, as they allow you to generate the values on-the-fly, rather than having to create and store the entire sequence in memory.\n",
    "\n",
    "Creating a Generator\n",
    "In Python, you can create a generator by using the yield statement in a function. \n",
    "The yield statement returns a value from the generator and suspends the execution of the function until the next value is requested. \n",
    "Here's an example:\n",
    "'''"
   ]
  },
  {
   "cell_type": "code",
   "execution_count": 8,
   "metadata": {},
   "outputs": [
    {
     "name": "stdout",
     "output_type": "stream",
     "text": [
      "<class 'generator'>\n",
      "0\n",
      "1\n",
      "2\n",
      "3\n",
      "4\n"
     ]
    }
   ],
   "source": [
    "def my_generator():\n",
    "    for i in range(5):\n",
    "        yield i\n",
    "\n",
    "gen = my_generator()\n",
    "print(type(gen))\n",
    "print(next(gen))\n",
    "print(next(gen))\n",
    "print(next(gen))\n",
    "print(next(gen))\n",
    "print(next(gen))"
   ]
  },
  {
   "cell_type": "code",
   "execution_count": 3,
   "metadata": {},
   "outputs": [
    {
     "data": {
      "text/plain": [
       "'\\nAs you can see, the generator function my_generator() returns a generator object, which can be used to generate the values in the range 0 to 4. \\nThe next() function is used to request the next value from the generator, and the generator resumes its execution until it encounters another yield statement or until it reaches the end of the function.\\n'"
      ]
     },
     "execution_count": 3,
     "metadata": {},
     "output_type": "execute_result"
    }
   ],
   "source": [
    "'''\n",
    "As you can see, the generator function my_generator() returns a generator object, which can be used to generate the values in the range 0 to 4. \n",
    "The next() function is used to request the next value from the generator, and the generator resumes its execution until it encounters another yield statement or until it reaches the end of the function.\n",
    "'''"
   ]
  },
  {
   "cell_type": "code",
   "execution_count": 4,
   "metadata": {},
   "outputs": [
    {
     "data": {
      "text/plain": [
       "\"\\nUsing a Generator\\nOnce you have created a generator, you can use it in a variety of ways, such as in a for loop, a list comprehension, or a generator expression. \\nHere's an example:\\n\""
      ]
     },
     "execution_count": 4,
     "metadata": {},
     "output_type": "execute_result"
    }
   ],
   "source": [
    "'''\n",
    "Using a Generator\n",
    "Once you have created a generator, you can use it in a variety of ways, such as in a for loop, a list comprehension, or a generator expression. \n",
    "Here's an example:\n",
    "'''"
   ]
  },
  {
   "cell_type": "code",
   "execution_count": 5,
   "metadata": {},
   "outputs": [
    {
     "name": "stdout",
     "output_type": "stream",
     "text": [
      "0\n",
      "1\n",
      "2\n",
      "3\n",
      "4\n"
     ]
    }
   ],
   "source": [
    "gen = my_generator()\n",
    "for i in gen:\n",
    "    print(i)"
   ]
  },
  {
   "cell_type": "code",
   "execution_count": null,
   "metadata": {},
   "outputs": [],
   "source": []
  },
  {
   "cell_type": "code",
   "execution_count": 6,
   "metadata": {},
   "outputs": [
    {
     "data": {
      "text/plain": [
       "'\\nAs you can see, the generator can be used in a for loop, just like any other iterable sequence. \\nThe generator is used to generate the values one-by-one as the loop iterates over it.\\n'"
      ]
     },
     "execution_count": 6,
     "metadata": {},
     "output_type": "execute_result"
    }
   ],
   "source": [
    "'''\n",
    "As you can see, the generator can be used in a for loop, just like any other iterable sequence. \n",
    "The generator is used to generate the values one-by-one as the loop iterates over it.\n",
    "'''"
   ]
  },
  {
   "cell_type": "code",
   "execution_count": null,
   "metadata": {},
   "outputs": [],
   "source": [
    "'''\n",
    "Benefits of Generators\n",
    "Generators offer several benefits over other types of sequences, such as lists, tuples, and sets. \n",
    "One of the main benefits of generators is that they allow you to generate the values on-the-fly, rather than having to create and store the entire sequence in memory. \n",
    "This makes generators a powerful tool for working with large or complex data sets, as you can generate the values as you need them, rather than having to store them all in memory at once.\n",
    "\n",
    "Another benefit of generators is that they are lazy, which means that the values are generated only when they are requested. \n",
    "This allows you to generate the values in a more efficient and memory-friendly manner, as you don't have to generate all the values up front.\n",
    "'''"
   ]
  }
 ],
 "metadata": {
  "kernelspec": {
   "display_name": "Python 3",
   "language": "python",
   "name": "python3"
  },
  "language_info": {
   "codemirror_mode": {
    "name": "ipython",
    "version": 3
   },
   "file_extension": ".py",
   "mimetype": "text/x-python",
   "name": "python",
   "nbconvert_exporter": "python",
   "pygments_lexer": "ipython3",
   "version": "3.11.5"
  }
 },
 "nbformat": 4,
 "nbformat_minor": 2
}
